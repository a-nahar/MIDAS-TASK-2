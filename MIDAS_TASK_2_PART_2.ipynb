{
 "cells": [
  {
   "cell_type": "markdown",
   "metadata": {},
   "source": [
    "## Part 2 - MIDAS TASK 2\n",
    "#### AIM \n",
    "    1) Pretrained the intial model from 0-9 images of part 1 dataset\n",
    "    2) Train and Testing on the Mnist DATASET \n",
    "    \n",
    "#### FLOW :\n",
    "1) training The part 1 model for digits 0-9\n",
    "2) Loading the Mnist Dataset\n",
    "3) Visuaization of the Mnist dataset\n",
    "4) loading the pretrained Model\n",
    "5) Training the Mnist dataset on the pretrained model\n",
    "4) Plotting the result\n",
    "5) Final Overview"
   ]
  },
  {
   "cell_type": "markdown",
   "metadata": {},
   "source": [
    "## Intial model explained in part \n",
    "##### Modification : \n",
    "1) Training set is only the 0 to 9 Digits\n",
    "2) training split = 0.9 & validation split = 0.1\n",
    "\n",
    "Rest The model is same and is well explained in part 1"
   ]
  },
  {
   "cell_type": "code",
   "execution_count": 5,
   "metadata": {
    "id": "wOco4RNRDPzw"
   },
   "outputs": [],
   "source": [
    "import os\n",
    "import zipfile\n",
    "import numpy as np\n",
    "import matplotlib\n",
    "import matplotlib.pyplot as plt\n",
    "import matplotlib.image as mpimg\n",
    "import tensorflow as tf\n",
    "from tensorflow.keras.models import Sequential\n",
    "from tensorflow.keras.layers import Conv2D, Lambda, MaxPooling2D, BatchNormalization, Add# convolution layers\n",
    "from tensorflow.keras.layers import Dense, Dropout, Flatten, Input# core layers\n",
    "from tensorflow.keras import layers\n",
    "\n",
    "from tensorflow.keras.preprocessing.image import ImageDataGenerator\n",
    "from tensorflow.keras.callbacks import ReduceLROnPlateau , ModelCheckpoint\n",
    "\n",
    "from platform import python_version\n"
   ]
  },
  {
   "cell_type": "code",
   "execution_count": 6,
   "metadata": {
    "colab": {
     "base_uri": "https://localhost:8080/"
    },
    "id": "lKYYMVCiEt_6",
    "outputId": "cea98828-aab9-45e5-b3eb-4711e1d0b2a6"
   },
   "outputs": [
    {
     "name": "stdout",
     "output_type": "stream",
     "text": [
      "phython version     : 3.7.10\n",
      "numpy version       : 1.19.5\n",
      "Tensorflow version  : 2.4.1\n",
      "matplotlib version  : 3.2.2\n"
     ]
    }
   ],
   "source": [
    "print('phython version     : ' + (python_version()))\n",
    "print('numpy version       : ' + np.__version__)\n",
    "print('Tensorflow version  : ' + tf.__version__)\n",
    "print('matplotlib version  : ' + matplotlib.__version__)\n"
   ]
  },
  {
   "cell_type": "code",
   "execution_count": 7,
   "metadata": {
    "id": "qBbNTgqdEuV9"
   },
   "outputs": [],
   "source": [
    "local_zip = '/content/trainPart1 for pretraining.zip'\n",
    "zip_ref   = zipfile.ZipFile(local_zip,'r')\n",
    "zip_ref.extractall('tmp/imgclassifi')\n",
    "zip_ref.close()"
   ]
  },
  {
   "cell_type": "code",
   "execution_count": 8,
   "metadata": {
    "colab": {
     "base_uri": "https://localhost:8080/"
    },
    "id": "dL8iD4RTFFi7",
    "outputId": "c4a2641c-1e24-4493-b000-49e40b99521b"
   },
   "outputs": [
    {
     "data": {
      "text/plain": [
       "['tmp/imgclassifi/train/0',\n",
       " 'tmp/imgclassifi/train/1',\n",
       " 'tmp/imgclassifi/train/2',\n",
       " 'tmp/imgclassifi/train/3',\n",
       " 'tmp/imgclassifi/train/4',\n",
       " 'tmp/imgclassifi/train/5',\n",
       " 'tmp/imgclassifi/train/6',\n",
       " 'tmp/imgclassifi/train/7',\n",
       " 'tmp/imgclassifi/train/8',\n",
       " 'tmp/imgclassifi/train/9']"
      ]
     },
     "execution_count": 8,
     "metadata": {
      "tags": []
     },
     "output_type": "execute_result"
    }
   ],
   "source": [
    "train_dir = os.path.join('tmp/imgclassifi/train')\n",
    "sub_dir = [os.path.join(train_dir,o) for o in os.listdir(train_dir) if os.path.isdir(os.path.join(train_dir,o))]\n",
    "sub_dir.sort()\n",
    "sub_dir"
   ]
  },
  {
   "cell_type": "code",
   "execution_count": 9,
   "metadata": {
    "id": "W_u4sEcLFGRI"
   },
   "outputs": [],
   "source": [
    "i_index = 0"
   ]
  },
  {
   "cell_type": "code",
   "execution_count": 10,
   "metadata": {
    "colab": {
     "base_uri": "https://localhost:8080/",
     "height": 517
    },
    "id": "SOE9_IK4FMvE",
    "outputId": "1307f4d9-75d8-4068-c70b-5599f9efd5f9"
   },
   "outputs": [
    {
     "data": {
      "image/png": "[encoded data removed]",
      "text/plain": [
       "<Figure size 360x360 with 5 Axes>"
      ]
     },
     "metadata": {
      "needs_background": "light",
      "tags": []
     },
     "output_type": "display_data"
    },
    {
     "data": {
      "image/png": "[encoded data removed]",
      "text/plain": [
       "<Figure size 360x360 with 5 Axes>"
      ]
     },
     "metadata": {
      "needs_background": "light",
      "tags": []
     },
     "output_type": "display_data"
    },
    {
     "data": {
      "image/png": "[encoded data removed]",
      "text/plain": [
       "<Figure size 360x360 with 5 Axes>"
      ]
     },
     "metadata": {
      "needs_background": "light",
      "tags": []
     },
     "output_type": "display_data"
    },
    {
     "data": {
      "image/png": "[encoded data removed]",
      "text/plain": [
       "<Figure size 360x360 with 5 Axes>"
      ]
     },
     "metadata": {
      "needs_background": "light",
      "tags": []
     },
     "output_type": "display_data"
    },
    {
     "data": {
      "image/png": "[encoded data removed]",
      "text/plain": [
       "<Figure size 360x360 with 5 Axes>"
      ]
     },
     "metadata": {
      "needs_background": "light",
      "tags": []
     },
     "output_type": "display_data"
    },
    {
     "data": {
      "image/png": "[encoded data removed]",
      "text/plain": [
       "<Figure size 360x360 with 5 Axes>"
      ]
     },
     "metadata": {
      "needs_background": "light",
      "tags": []
     },
     "output_type": "display_data"
    },
    {
     "data": {
      "image/png": "[encoded data removed]",
      "text/plain": [
       "<Figure size 360x360 with 5 Axes>"
      ]
     },
     "metadata": {
      "needs_background": "light",
      "tags": []
     },
     "output_type": "display_data"
    },
    {
     "data": {
      "image/png": "[encoded data removed]",
      "text/plain": [
       "<Figure size 360x360 with 5 Axes>"
      ]
     },
     "metadata": {
      "needs_background": "light",
      "tags": []
     },
     "output_type": "display_data"
    },
    {
     "data": {
      "image/png": "[encoded data removed]",
      "text/plain": [
       "<Figure size 360x360 with 5 Axes>"
      ]
     },
     "metadata": {
      "needs_background": "light",
      "tags": []
     },
     "output_type": "display_data"
    },
    {
     "data": {
      "image/png": "[encoded data removed]",
      "text/plain": [
       "<Figure size 360x360 with 5 Axes>"
      ]
     },
     "metadata": {
      "needs_background": "light",
      "tags": []
     },
     "output_type": "display_data"
    }
   ],
   "source": [
    "num_img = 5\n",
    "f_index = i_index + num_img\n",
    "#fig = plt.gcf()\n",
    "#fig.set_size_inches(4*2,4*2)\n",
    "\n",
    "for j in range(len(sub_dir)):\n",
    "    \n",
    "    fig = plt.gcf()\n",
    "    fig.set_size_inches(num_img*1,num_img*1)\n",
    "                        \n",
    "    for i,img in enumerate(os.listdir(sub_dir[j])[i_index:f_index]):\n",
    "                        \n",
    "        sp = plt.subplot(num_img,num_img,i+1)\n",
    "        sp.axis('off')\n",
    "                        \n",
    "        img_path = os.path.join(sub_dir[j],img)\n",
    "        image   = mpimg.imread(img_path)\n",
    "        plt.imshow(image)\n",
    "                        \n",
    "    plt.show()\n",
    "\n",
    "i_index = f_index"
   ]
  },
  {
   "cell_type": "code",
   "execution_count": 18,
   "metadata": {
    "colab": {
     "base_uri": "https://localhost:8080/"
    },
    "id": "EmcQCLfOFPGL",
    "outputId": "5e45a21f-a8a0-43a0-9e98-ee008f660de9"
   },
   "outputs": [
    {
     "name": "stdout",
     "output_type": "stream",
     "text": [
      "Found 360 images belonging to 10 classes.\n",
      "Found 40 images belonging to 10 classes.\n"
     ]
    }
   ],
   "source": [
    "## CNN MODEL\n",
    "def build_model():\n",
    "  inp = Input(shape = (28,28,1))\n",
    "  x1  = Conv2D(filters=64, kernel_size = (3,3), activation=\"relu\",  kernel_initializer= 'he_normal')(inp)\n",
    "  x1  = Conv2D(filters=64, kernel_size = (3,3), activation=\"relu\", kernel_initializer= 'he_normal')(x1)\n",
    "  x1  = MaxPooling2D(pool_size=(2,2))(x1)\n",
    "  x1  = Dropout(0.20)(x1)\n",
    "  x1  = BatchNormalization()(x1)\n",
    "\n",
    "  x2  = Conv2D(filters=128, kernel_size = (3,3), activation=\"relu\", kernel_initializer= 'he_normal')(x1)\n",
    "  x2  = Conv2D(filters=256, kernel_size = (3,3), activation=\"relu\", kernel_initializer= 'he_normal')(x2)\n",
    "  x2  = MaxPooling2D(pool_size=(2,2))(x2)\n",
    "  x2  = Dropout(0.25)(x2)\n",
    "  x2  = BatchNormalization()(x2)\n",
    "\n",
    "\n",
    "  #x3  = Add()([x1,x2])\n",
    "  x3  = Conv2D(filters=256, kernel_size = (3,3), activation=\"relu\", kernel_initializer= 'he_normal')(x2)\n",
    "  #x3  = Conv2D(filters=128, kernel_size = (3,3), activation=\"relu\")(x2)\n",
    "  x3  = MaxPooling2D(pool_size=(2,2))(x3)\n",
    "  x3  = Dropout(0.25)(x3)\n",
    "  x3  = Flatten()(x3)\n",
    "  x3  = BatchNormalization()(x3)\n",
    "\n",
    "  x4  = Add()([x2,x3])                        # skip connection\n",
    "\n",
    "  x4  = Dense(512,activation=\"relu\")(x4)\n",
    "  x4  = Dropout(0.20)(x4)\n",
    "  out  = Dense(10,activation=\"softmax\")(x3)   #Here We have 10 classes\n",
    "  \n",
    "  return tf.keras.Model(inp,out)\n",
    "\n",
    "\n",
    "\n",
    "model = build_model()\n",
    "\n",
    "\n",
    "# CALLBACKS\n",
    "rlr = ReduceLROnPlateau(monitor='val_accuracy', patience=3, verbose=1, factor=0.5, min_lr=0.0001)\n",
    "ckp = ModelCheckpoint('best_model.h5', monitor = 'val_accuracy',verbose = 1, save_best_only = True, mode = 'max')\n",
    "\n",
    "#MODEL COMPILE    \n",
    "model.compile(loss=\"categorical_crossentropy\",optimizer=tf.optimizers.Adam(learning_rate = 0.01), metrics=[\"accuracy\"])\n",
    "\n",
    "#EPOUCH AND BATCH SIZE\n",
    "\n",
    "batchsize = 32\n",
    "EPOUCH    = 60\n",
    "\n",
    "#DATA GENERATOR - DATA PREPROCESSING AND ARGUMENTATION\n",
    "\n",
    "train_datagen = ImageDataGenerator(  \n",
    "       \n",
    "        featurewise_center=False,  \n",
    "        samplewise_center=False,  \n",
    "        featurewise_std_normalization=False,  \n",
    "        samplewise_std_normalization=False,  \n",
    "        zca_whitening=False,  \n",
    "        rotation_range= 10,     \n",
    "        zoom_range = 0.1,  \n",
    "        width_shift_range=0.1,  \n",
    "        height_shift_range=0.1,  \n",
    "        horizontal_flip=False,  \n",
    "        vertical_flip=False,\n",
    "        validation_split =0.10)\n",
    "\n",
    "\n",
    "\n",
    "train_generator = train_datagen.flow_from_directory(\n",
    "        train_dir,  # This is the source directory for training images\n",
    "        target_size=(28,28),  # All images will be resized to 28*28\n",
    "        batch_size=batchsize,\n",
    "        color_mode = \"grayscale\",\n",
    "        class_mode='categorical',\n",
    "        subset = 'training')\n",
    "        \n",
    "\n",
    "validation_generator = train_datagen.flow_from_directory(\n",
    "        train_dir,  # This is the source directory for training images\n",
    "        target_size=(28,28),  # All images will be resized to 28*28\n",
    "        batch_size=batchsize,\n",
    "        color_mode = \"grayscale\",\n",
    "        class_mode='categorical',\n",
    "        subset = 'validation')\n",
    "\n"
   ]
  },
  {
   "cell_type": "code",
   "execution_count": 19,
   "metadata": {
    "colab": {
     "base_uri": "https://localhost:8080/"
    },
    "id": "RHO1lpV2FaWj",
    "outputId": "981e02aa-17f7-4d9a-8f09-4a0ef94ed0b2"
   },
   "outputs": [
    {
     "name": "stdout",
     "output_type": "stream",
     "text": [
      "Model: \"model_3\"\n",
      "_________________________________________________________________\n",
      "Layer (type)                 Output Shape              Param #   \n",
      "=================================================================\n",
      "input_4 (InputLayer)         [(None, 28, 28, 1)]       0         \n",
      "_________________________________________________________________\n",
      "conv2d_15 (Conv2D)           (None, 26, 26, 64)        640       \n",
      "_________________________________________________________________\n",
      "conv2d_16 (Conv2D)           (None, 24, 24, 64)        36928     \n",
      "_________________________________________________________________\n",
      "max_pooling2d_9 (MaxPooling2 (None, 12, 12, 64)        0         \n",
      "_________________________________________________________________\n",
      "dropout_12 (Dropout)         (None, 12, 12, 64)        0         \n",
      "_________________________________________________________________\n",
      "batch_normalization_9 (Batch (None, 12, 12, 64)        256       \n",
      "_________________________________________________________________\n",
      "conv2d_17 (Conv2D)           (None, 10, 10, 128)       73856     \n",
      "_________________________________________________________________\n",
      "conv2d_18 (Conv2D)           (None, 8, 8, 256)         295168    \n",
      "_________________________________________________________________\n",
      "max_pooling2d_10 (MaxPooling (None, 4, 4, 256)         0         \n",
      "_________________________________________________________________\n",
      "dropout_13 (Dropout)         (None, 4, 4, 256)         0         \n",
      "_________________________________________________________________\n",
      "batch_normalization_10 (Batc (None, 4, 4, 256)         1024      \n",
      "_________________________________________________________________\n",
      "conv2d_19 (Conv2D)           (None, 2, 2, 256)         590080    \n",
      "_________________________________________________________________\n",
      "max_pooling2d_11 (MaxPooling (None, 1, 1, 256)         0         \n",
      "_________________________________________________________________\n",
      "dropout_14 (Dropout)         (None, 1, 1, 256)         0         \n",
      "_________________________________________________________________\n",
      "flatten_3 (Flatten)          (None, 256)               0         \n",
      "_________________________________________________________________\n",
      "batch_normalization_11 (Batc (None, 256)               1024      \n",
      "_________________________________________________________________\n",
      "dense_7 (Dense)              (None, 10)                2570      \n",
      "=================================================================\n",
      "Total params: 1,001,546\n",
      "Trainable params: 1,000,394\n",
      "Non-trainable params: 1,152\n",
      "_________________________________________________________________\n"
     ]
    }
   ],
   "source": [
    "model.summary()"
   ]
  },
  {
   "cell_type": "code",
   "execution_count": 20,
   "metadata": {
    "colab": {
     "base_uri": "https://localhost:8080/"
    },
    "id": "aPAzeUQcFdRd",
    "outputId": "7d2fa1b6-389e-4764-cfce-f38772dbb197"
   },
   "outputs": [
    {
     "name": "stderr",
     "output_type": "stream",
     "text": [
      "/usr/local/lib/python3.7/dist-packages/tensorflow/python/keras/engine/training.py:1844: UserWarning: `Model.fit_generator` is deprecated and will be removed in a future version. Please use `Model.fit`, which supports generators.\n",
      "  warnings.warn('`Model.fit_generator` is deprecated and '\n"
     ]
    },
    {
     "name": "stdout",
     "output_type": "stream",
     "text": [
      "Epoch 1/60\n",
      "11/11 [==============================] - 7s 527ms/step - loss: 3.0010 - accuracy: 0.1657 - val_loss: 678.0187 - val_accuracy: 0.1000\n",
      "\n",
      "Epoch 00001: val_accuracy improved from -inf to 0.10000, saving model to best_model.h5\n",
      "Epoch 2/60\n",
      "11/11 [==============================] - 5s 471ms/step - loss: 2.0570 - accuracy: 0.3364 - val_loss: 332.1842 - val_accuracy: 0.1000\n",
      "\n",
      "Epoch 00002: val_accuracy did not improve from 0.10000\n",
      "Epoch 3/60\n",
      "11/11 [==============================] - 5s 476ms/step - loss: 1.4387 - accuracy: 0.4917 - val_loss: 87.5329 - val_accuracy: 0.1250\n",
      "\n",
      "Epoch 00003: val_accuracy improved from 0.10000 to 0.12500, saving model to best_model.h5\n",
      "Epoch 4/60\n",
      "11/11 [==============================] - 5s 474ms/step - loss: 0.9622 - accuracy: 0.6783 - val_loss: 67.7283 - val_accuracy: 0.1500\n",
      "\n",
      "Epoch 00004: val_accuracy improved from 0.12500 to 0.15000, saving model to best_model.h5\n",
      "Epoch 5/60\n",
      "11/11 [==============================] - 5s 472ms/step - loss: 0.8590 - accuracy: 0.7114 - val_loss: 29.9105 - val_accuracy: 0.1750\n",
      "\n",
      "Epoch 00005: val_accuracy improved from 0.15000 to 0.17500, saving model to best_model.h5\n",
      "Epoch 6/60\n",
      "11/11 [==============================] - 5s 469ms/step - loss: 0.8061 - accuracy: 0.7175 - val_loss: 12.5466 - val_accuracy: 0.3500\n",
      "\n",
      "Epoch 00006: val_accuracy improved from 0.17500 to 0.35000, saving model to best_model.h5\n",
      "Epoch 7/60\n",
      "11/11 [==============================] - 5s 469ms/step - loss: 0.6636 - accuracy: 0.7592 - val_loss: 8.6589 - val_accuracy: 0.2750\n",
      "\n",
      "Epoch 00007: val_accuracy did not improve from 0.35000\n",
      "Epoch 8/60\n",
      "11/11 [==============================] - 5s 470ms/step - loss: 0.7189 - accuracy: 0.7687 - val_loss: 2.8592 - val_accuracy: 0.5750\n",
      "\n",
      "Epoch 00008: val_accuracy improved from 0.35000 to 0.57500, saving model to best_model.h5\n",
      "Epoch 9/60\n",
      "11/11 [==============================] - 5s 462ms/step - loss: 0.5098 - accuracy: 0.8313 - val_loss: 3.0296 - val_accuracy: 0.6000\n",
      "\n",
      "Epoch 00009: val_accuracy improved from 0.57500 to 0.60000, saving model to best_model.h5\n",
      "Epoch 10/60\n",
      "11/11 [==============================] - 5s 472ms/step - loss: 0.5136 - accuracy: 0.8573 - val_loss: 2.5218 - val_accuracy: 0.5000\n",
      "\n",
      "Epoch 00010: val_accuracy did not improve from 0.60000\n",
      "Epoch 11/60\n",
      "11/11 [==============================] - 5s 463ms/step - loss: 0.5318 - accuracy: 0.8273 - val_loss: 1.2551 - val_accuracy: 0.7750\n",
      "\n",
      "Epoch 00011: val_accuracy improved from 0.60000 to 0.77500, saving model to best_model.h5\n",
      "Epoch 12/60\n",
      "11/11 [==============================] - 5s 467ms/step - loss: 0.3825 - accuracy: 0.8947 - val_loss: 1.4887 - val_accuracy: 0.5750\n",
      "\n",
      "Epoch 00012: val_accuracy did not improve from 0.77500\n",
      "Epoch 13/60\n",
      "11/11 [==============================] - 5s 466ms/step - loss: 0.3498 - accuracy: 0.8767 - val_loss: 0.8733 - val_accuracy: 0.6750\n",
      "\n",
      "Epoch 00013: val_accuracy did not improve from 0.77500\n",
      "Epoch 14/60\n",
      "11/11 [==============================] - 5s 495ms/step - loss: 0.3917 - accuracy: 0.8548 - val_loss: 1.8415 - val_accuracy: 0.6500\n",
      "\n",
      "Epoch 00014: ReduceLROnPlateau reducing learning rate to 0.004999999888241291.\n",
      "\n",
      "Epoch 00014: val_accuracy did not improve from 0.77500\n",
      "Epoch 15/60\n",
      "11/11 [==============================] - 5s 491ms/step - loss: 0.3128 - accuracy: 0.8739 - val_loss: 1.0719 - val_accuracy: 0.8000\n",
      "\n",
      "Epoch 00015: val_accuracy improved from 0.77500 to 0.80000, saving model to best_model.h5\n",
      "Epoch 16/60\n",
      "11/11 [==============================] - 5s 471ms/step - loss: 0.3688 - accuracy: 0.8720 - val_loss: 0.7824 - val_accuracy: 0.7500\n",
      "\n",
      "Epoch 00016: val_accuracy did not improve from 0.80000\n",
      "Epoch 17/60\n",
      "11/11 [==============================] - 5s 469ms/step - loss: 0.3001 - accuracy: 0.9037 - val_loss: 0.5479 - val_accuracy: 0.8000\n",
      "\n",
      "Epoch 00017: val_accuracy did not improve from 0.80000\n",
      "Epoch 18/60\n",
      "11/11 [==============================] - 5s 473ms/step - loss: 0.2476 - accuracy: 0.9225 - val_loss: 0.8073 - val_accuracy: 0.7750\n",
      "\n",
      "Epoch 00018: ReduceLROnPlateau reducing learning rate to 0.0024999999441206455.\n",
      "\n",
      "Epoch 00018: val_accuracy did not improve from 0.80000\n",
      "Epoch 19/60\n",
      "11/11 [==============================] - 5s 470ms/step - loss: 0.2528 - accuracy: 0.9049 - val_loss: 1.0287 - val_accuracy: 0.8000\n",
      "\n",
      "Epoch 00019: val_accuracy did not improve from 0.80000\n",
      "Epoch 20/60\n",
      "11/11 [==============================] - 5s 469ms/step - loss: 0.2003 - accuracy: 0.9366 - val_loss: 0.5167 - val_accuracy: 0.8750\n",
      "\n",
      "Epoch 00020: val_accuracy improved from 0.80000 to 0.87500, saving model to best_model.h5\n",
      "Epoch 21/60\n",
      "11/11 [==============================] - 5s 467ms/step - loss: 0.1692 - accuracy: 0.9450 - val_loss: 0.7164 - val_accuracy: 0.8500\n",
      "\n",
      "Epoch 00021: val_accuracy did not improve from 0.87500\n",
      "Epoch 22/60\n",
      "11/11 [==============================] - 5s 520ms/step - loss: 0.2049 - accuracy: 0.9304 - val_loss: 0.5961 - val_accuracy: 0.8750\n",
      "\n",
      "Epoch 00022: val_accuracy did not improve from 0.87500\n",
      "Epoch 23/60\n",
      "11/11 [==============================] - 5s 471ms/step - loss: 0.1706 - accuracy: 0.9514 - val_loss: 0.7309 - val_accuracy: 0.7750\n",
      "\n",
      "Epoch 00023: ReduceLROnPlateau reducing learning rate to 0.0012499999720603228.\n",
      "\n",
      "Epoch 00023: val_accuracy did not improve from 0.87500\n",
      "Epoch 24/60\n",
      "11/11 [==============================] - 5s 461ms/step - loss: 0.1379 - accuracy: 0.9452 - val_loss: 0.6545 - val_accuracy: 0.8000\n",
      "\n",
      "Epoch 00024: val_accuracy did not improve from 0.87500\n",
      "Epoch 25/60\n",
      "11/11 [==============================] - 5s 464ms/step - loss: 0.1212 - accuracy: 0.9721 - val_loss: 0.5300 - val_accuracy: 0.8500\n",
      "\n",
      "Epoch 00025: val_accuracy did not improve from 0.87500\n",
      "Epoch 26/60\n",
      "11/11 [==============================] - 5s 466ms/step - loss: 0.1352 - accuracy: 0.9512 - val_loss: 0.5158 - val_accuracy: 0.9000\n",
      "\n",
      "Epoch 00026: val_accuracy improved from 0.87500 to 0.90000, saving model to best_model.h5\n",
      "Epoch 27/60\n",
      "11/11 [==============================] - 5s 467ms/step - loss: 0.1534 - accuracy: 0.9510 - val_loss: 0.3690 - val_accuracy: 0.9000\n",
      "\n",
      "Epoch 00027: val_accuracy did not improve from 0.90000\n",
      "Epoch 28/60\n",
      "11/11 [==============================] - 5s 497ms/step - loss: 0.2564 - accuracy: 0.9258 - val_loss: 0.3162 - val_accuracy: 0.8500\n",
      "\n",
      "Epoch 00028: val_accuracy did not improve from 0.90000\n",
      "Epoch 29/60\n",
      "11/11 [==============================] - 5s 466ms/step - loss: 0.2291 - accuracy: 0.9130 - val_loss: 0.5118 - val_accuracy: 0.8750\n",
      "\n",
      "Epoch 00029: ReduceLROnPlateau reducing learning rate to 0.0006249999860301614.\n",
      "\n",
      "Epoch 00029: val_accuracy did not improve from 0.90000\n",
      "Epoch 30/60\n",
      "11/11 [==============================] - 5s 465ms/step - loss: 0.1338 - accuracy: 0.9550 - val_loss: 0.2321 - val_accuracy: 0.9500\n",
      "\n",
      "Epoch 00030: val_accuracy improved from 0.90000 to 0.95000, saving model to best_model.h5\n",
      "Epoch 31/60\n",
      "11/11 [==============================] - 5s 494ms/step - loss: 0.1610 - accuracy: 0.9554 - val_loss: 0.4872 - val_accuracy: 0.9500\n",
      "\n",
      "Epoch 00031: val_accuracy did not improve from 0.95000\n",
      "Epoch 32/60\n",
      "11/11 [==============================] - 5s 465ms/step - loss: 0.1764 - accuracy: 0.9307 - val_loss: 0.3708 - val_accuracy: 0.9500\n",
      "\n",
      "Epoch 00032: val_accuracy did not improve from 0.95000\n",
      "Epoch 33/60\n",
      "11/11 [==============================] - 5s 468ms/step - loss: 0.0920 - accuracy: 0.9784 - val_loss: 0.5727 - val_accuracy: 0.8750\n",
      "\n",
      "Epoch 00033: ReduceLROnPlateau reducing learning rate to 0.0003124999930150807.\n",
      "\n",
      "Epoch 00033: val_accuracy did not improve from 0.95000\n",
      "Epoch 34/60\n",
      "11/11 [==============================] - 5s 504ms/step - loss: 0.1370 - accuracy: 0.9527 - val_loss: 0.5255 - val_accuracy: 0.8750\n",
      "\n",
      "Epoch 00034: val_accuracy did not improve from 0.95000\n",
      "Epoch 35/60\n",
      "11/11 [==============================] - 5s 470ms/step - loss: 0.1104 - accuracy: 0.9670 - val_loss: 0.3257 - val_accuracy: 0.8750\n",
      "\n",
      "Epoch 00035: val_accuracy did not improve from 0.95000\n",
      "Epoch 36/60\n",
      "11/11 [==============================] - 5s 473ms/step - loss: 0.0897 - accuracy: 0.9719 - val_loss: 0.4118 - val_accuracy: 0.9000\n",
      "\n",
      "Epoch 00036: ReduceLROnPlateau reducing learning rate to 0.00015624999650754035.\n",
      "\n",
      "Epoch 00036: val_accuracy did not improve from 0.95000\n",
      "Epoch 37/60\n",
      "11/11 [==============================] - 5s 464ms/step - loss: 0.1636 - accuracy: 0.9390 - val_loss: 0.3997 - val_accuracy: 0.9000\n",
      "\n",
      "Epoch 00037: val_accuracy did not improve from 0.95000\n",
      "Epoch 38/60\n",
      "11/11 [==============================] - 5s 468ms/step - loss: 0.1891 - accuracy: 0.9386 - val_loss: 0.5259 - val_accuracy: 0.9000\n",
      "\n",
      "Epoch 00038: val_accuracy did not improve from 0.95000\n",
      "Epoch 39/60\n",
      "11/11 [==============================] - 5s 460ms/step - loss: 0.1954 - accuracy: 0.9407 - val_loss: 0.4367 - val_accuracy: 0.9250\n",
      "\n",
      "Epoch 00039: ReduceLROnPlateau reducing learning rate to 0.0001.\n",
      "\n",
      "Epoch 00039: val_accuracy did not improve from 0.95000\n",
      "Epoch 40/60\n",
      "11/11 [==============================] - 5s 498ms/step - loss: 0.1679 - accuracy: 0.9613 - val_loss: 0.3435 - val_accuracy: 0.9250\n",
      "\n",
      "Epoch 00040: val_accuracy did not improve from 0.95000\n",
      "Epoch 41/60\n",
      "11/11 [==============================] - 5s 496ms/step - loss: 0.1954 - accuracy: 0.9246 - val_loss: 0.3382 - val_accuracy: 0.9000\n",
      "\n",
      "Epoch 00041: val_accuracy did not improve from 0.95000\n",
      "Epoch 42/60\n",
      "11/11 [==============================] - 5s 464ms/step - loss: 0.1052 - accuracy: 0.9624 - val_loss: 0.2268 - val_accuracy: 0.9500\n",
      "\n",
      "Epoch 00042: val_accuracy did not improve from 0.95000\n",
      "Epoch 43/60\n",
      "11/11 [==============================] - 5s 467ms/step - loss: 0.1010 - accuracy: 0.9666 - val_loss: 0.2639 - val_accuracy: 0.9250\n",
      "\n",
      "Epoch 00043: val_accuracy did not improve from 0.95000\n",
      "Epoch 44/60\n",
      "11/11 [==============================] - 5s 480ms/step - loss: 0.0794 - accuracy: 0.9884 - val_loss: 0.2082 - val_accuracy: 0.9000\n",
      "\n",
      "Epoch 00044: val_accuracy did not improve from 0.95000\n",
      "Epoch 45/60\n",
      "11/11 [==============================] - 5s 468ms/step - loss: 0.1022 - accuracy: 0.9677 - val_loss: 0.4034 - val_accuracy: 0.8500\n",
      "\n",
      "Epoch 00045: val_accuracy did not improve from 0.95000\n",
      "Epoch 46/60\n",
      "11/11 [==============================] - 5s 468ms/step - loss: 0.1871 - accuracy: 0.9326 - val_loss: 0.3589 - val_accuracy: 0.9000\n",
      "\n",
      "Epoch 00046: val_accuracy did not improve from 0.95000\n",
      "Epoch 47/60\n",
      "11/11 [==============================] - 5s 468ms/step - loss: 0.1863 - accuracy: 0.9376 - val_loss: 0.2218 - val_accuracy: 0.9250\n",
      "\n",
      "Epoch 00047: val_accuracy did not improve from 0.95000\n",
      "Epoch 48/60\n",
      "11/11 [==============================] - 5s 463ms/step - loss: 0.1284 - accuracy: 0.9564 - val_loss: 0.3327 - val_accuracy: 0.9250\n",
      "\n",
      "Epoch 00048: val_accuracy did not improve from 0.95000\n",
      "Epoch 49/60\n",
      "11/11 [==============================] - 5s 472ms/step - loss: 0.1178 - accuracy: 0.9721 - val_loss: 0.2039 - val_accuracy: 0.9250\n",
      "\n",
      "Epoch 00049: val_accuracy did not improve from 0.95000\n",
      "Epoch 50/60\n",
      "11/11 [==============================] - 5s 474ms/step - loss: 0.1019 - accuracy: 0.9782 - val_loss: 0.4717 - val_accuracy: 0.8750\n",
      "\n",
      "Epoch 00050: val_accuracy did not improve from 0.95000\n",
      "Epoch 51/60\n",
      "11/11 [==============================] - 5s 469ms/step - loss: 0.1155 - accuracy: 0.9611 - val_loss: 0.2877 - val_accuracy: 0.9000\n",
      "\n",
      "Epoch 00051: val_accuracy did not improve from 0.95000\n",
      "Epoch 52/60\n",
      "11/11 [==============================] - 5s 472ms/step - loss: 0.1023 - accuracy: 0.9600 - val_loss: 0.4111 - val_accuracy: 0.9250\n",
      "\n",
      "Epoch 00052: val_accuracy did not improve from 0.95000\n",
      "Epoch 53/60\n",
      "11/11 [==============================] - 5s 473ms/step - loss: 0.1084 - accuracy: 0.9678 - val_loss: 0.1821 - val_accuracy: 0.9500\n",
      "\n",
      "Epoch 00053: val_accuracy did not improve from 0.95000\n",
      "Epoch 54/60\n",
      "11/11 [==============================] - 5s 496ms/step - loss: 0.1931 - accuracy: 0.9442 - val_loss: 0.2456 - val_accuracy: 0.9500\n",
      "\n",
      "Epoch 00054: val_accuracy did not improve from 0.95000\n",
      "Epoch 55/60\n",
      "11/11 [==============================] - 5s 466ms/step - loss: 0.1511 - accuracy: 0.9556 - val_loss: 0.2510 - val_accuracy: 0.9500\n",
      "\n",
      "Epoch 00055: val_accuracy did not improve from 0.95000\n",
      "Epoch 56/60\n",
      "11/11 [==============================] - 5s 470ms/step - loss: 0.1351 - accuracy: 0.9558 - val_loss: 0.3637 - val_accuracy: 0.8750\n",
      "\n",
      "Epoch 00056: val_accuracy did not improve from 0.95000\n",
      "Epoch 57/60\n",
      "11/11 [==============================] - 5s 471ms/step - loss: 0.1434 - accuracy: 0.9292 - val_loss: 0.5491 - val_accuracy: 0.8750\n",
      "\n",
      "Epoch 00057: val_accuracy did not improve from 0.95000\n",
      "Epoch 58/60\n",
      "11/11 [==============================] - 5s 469ms/step - loss: 0.0914 - accuracy: 0.9656 - val_loss: 0.5368 - val_accuracy: 0.8500\n",
      "\n",
      "Epoch 00058: val_accuracy did not improve from 0.95000\n",
      "Epoch 59/60\n",
      "11/11 [==============================] - 5s 498ms/step - loss: 0.1154 - accuracy: 0.9555 - val_loss: 0.5348 - val_accuracy: 0.9250\n",
      "\n",
      "Epoch 00059: val_accuracy did not improve from 0.95000\n",
      "Epoch 60/60\n",
      "11/11 [==============================] - 5s 472ms/step - loss: 0.1509 - accuracy: 0.9511 - val_loss: 0.3032 - val_accuracy: 0.9000\n",
      "\n",
      "Epoch 00060: val_accuracy did not improve from 0.95000\n"
     ]
    }
   ],
   "source": [
    "\n",
    "history = model.fit_generator(train_generator,steps_per_epoch= 360/batchsize,epochs = EPOUCH ,verbose=1,validation_data=validation_generator, callbacks=[rlr,ckp])\n",
    "\n",
    "\n"
   ]
  },
  {
   "cell_type": "markdown",
   "metadata": {},
   "source": [
    "##### Accuracy for the above model\n",
    "1: Best validation accuracy = 95 %\n",
    "2: Testing accuracy = 95.54%\n"
   ]
  },
  {
   "cell_type": "markdown",
   "metadata": {
    "id": "5cgo8RS8KdUQ"
   },
   "source": [
    "## Loading the pretrained model\n",
    "we save the model having the best validation accuracy in the file 'best_model.h5' using the Modelchechkpoint,Now I am loading and oberserving the model summary."
   ]
  },
  {
   "cell_type": "code",
   "execution_count": 32,
   "metadata": {
    "colab": {
     "base_uri": "https://localhost:8080/"
    },
    "id": "8sLJO4NvKlap",
    "outputId": "6afa155c-a882-4559-f44b-07cd60a50812"
   },
   "outputs": [
    {
     "name": "stdout",
     "output_type": "stream",
     "text": [
      "Model: \"model_3\"\n",
      "_________________________________________________________________\n",
      "Layer (type)                 Output Shape              Param #   \n",
      "=================================================================\n",
      "input_4 (InputLayer)         [(None, 28, 28, 1)]       0         \n",
      "_________________________________________________________________\n",
      "conv2d_15 (Conv2D)           (None, 26, 26, 64)        640       \n",
      "_________________________________________________________________\n",
      "conv2d_16 (Conv2D)           (None, 24, 24, 64)        36928     \n",
      "_________________________________________________________________\n",
      "max_pooling2d_9 (MaxPooling2 (None, 12, 12, 64)        0         \n",
      "_________________________________________________________________\n",
      "dropout_12 (Dropout)         (None, 12, 12, 64)        0         \n",
      "_________________________________________________________________\n",
      "batch_normalization_9 (Batch (None, 12, 12, 64)        256       \n",
      "_________________________________________________________________\n",
      "conv2d_17 (Conv2D)           (None, 10, 10, 128)       73856     \n",
      "_________________________________________________________________\n",
      "conv2d_18 (Conv2D)           (None, 8, 8, 256)         295168    \n",
      "_________________________________________________________________\n",
      "max_pooling2d_10 (MaxPooling (None, 4, 4, 256)         0         \n",
      "_________________________________________________________________\n",
      "dropout_13 (Dropout)         (None, 4, 4, 256)         0         \n",
      "_________________________________________________________________\n",
      "batch_normalization_10 (Batc (None, 4, 4, 256)         1024      \n",
      "_________________________________________________________________\n",
      "conv2d_19 (Conv2D)           (None, 2, 2, 256)         590080    \n",
      "_________________________________________________________________\n",
      "max_pooling2d_11 (MaxPooling (None, 1, 1, 256)         0         \n",
      "_________________________________________________________________\n",
      "dropout_14 (Dropout)         (None, 1, 1, 256)         0         \n",
      "_________________________________________________________________\n",
      "flatten_3 (Flatten)          (None, 256)               0         \n",
      "_________________________________________________________________\n",
      "batch_normalization_11 (Batc (None, 256)               1024      \n",
      "_________________________________________________________________\n",
      "dense_7 (Dense)              (None, 10)                2570      \n",
      "=================================================================\n",
      "Total params: 1,001,546\n",
      "Trainable params: 1,000,394\n",
      "Non-trainable params: 1,152\n",
      "_________________________________________________________________\n"
     ]
    },
    {
     "data": {
      "text/plain": [
       "<tensorflow.python.keras.engine.functional.Functional at 0x7f9c8011c190>"
      ]
     },
     "execution_count": 32,
     "metadata": {
      "tags": []
     },
     "output_type": "execute_result"
    }
   ],
   "source": [
    "model =  tf.keras.models.load_model('best_model.h5')\n",
    "model.summary()\n",
    "model"
   ]
  },
  {
   "cell_type": "markdown",
   "metadata": {
    "id": "_sUzimAvLHb2"
   },
   "source": [
    "# Downloading the dataset\n",
    "Here I am using the tensorflow api to load the MNIST DATA"
   ]
  },
  {
   "cell_type": "code",
   "execution_count": 33,
   "metadata": {
    "id": "Lu1YQan0L5k3"
   },
   "outputs": [],
   "source": [
    "from tensorflow.keras.datasets import mnist\n",
    "(X_train, Y_train), (X_test, Y_test) = mnist.load_data()"
   ]
  },
  {
   "cell_type": "markdown",
   "metadata": {},
   "source": [
    "#### traing set and test set shapes\n",
    "\n",
    "we have around 60000 train images and 10000 test images"
   ]
  },
  {
   "cell_type": "code",
   "execution_count": 34,
   "metadata": {
    "colab": {
     "base_uri": "https://localhost:8080/"
    },
    "id": "ss-IZmeGM4C6",
    "outputId": "54f30362-a78b-49fd-d520-98fc89c6298a"
   },
   "outputs": [
    {
     "name": "stdout",
     "output_type": "stream",
     "text": [
      "MNIST Dataset Shape:\n",
      "X_train: (60000, 28, 28)\n",
      "Y_train: (60000,)\n",
      "X_test:  (10000, 28, 28)\n",
      "Y_test:  (10000,)\n"
     ]
    }
   ],
   "source": [
    "print('MNIST Dataset Shape:')\n",
    "print('X_train: ' + str(X_train.shape))\n",
    "print('Y_train: ' + str(Y_train.shape))\n",
    "print('X_test:  '  + str(X_test.shape))\n",
    "print('Y_test:  '  + str(Y_test.shape))"
   ]
  },
  {
   "cell_type": "markdown",
   "metadata": {},
   "source": [
    "## visualization of the Images\n",
    "\n",
    "##### point to observe:\n",
    "in this case the image background is white and the digits is of white colour, while in the our pretrained model dataset, the images are of white background with digits is of black colour.\n",
    "\n",
    "###### Note : I trained the model with colour inversion also  but the result is almost same in both the cases,I have explained the model with color inversion in the experiment log which is uploaded in Repo.The Reason why we are getting the same result is more likely because we have a pretrained model which is trained on less no. of that kind of images."
   ]
  },
  {
   "cell_type": "code",
   "execution_count": 35,
   "metadata": {
    "colab": {
     "base_uri": "https://localhost:8080/",
     "height": 577
    },
    "id": "iVCpDNdWPe26",
    "outputId": "12750746-a8fb-4025-e3e8-6e70b1855a77",
    "scrolled": true
   },
   "outputs": [
    {
     "data": {
      "image/png": "[encoded data removed]",
      "text/plain": [
       "<Figure size 432x288 with 9 Axes>"
      ]
     },
     "execution_count": 35,
     "metadata": {
      "tags": []
     },
     "output_type": "execute_result"
    },
    {
     "data": {
      "image/png": "[encoded data removed]",
      "text/plain": [
       "<Figure size 432x288 with 9 Axes>"
      ]
     },
     "metadata": {
      "needs_background": "light",
      "tags": []
     },
     "output_type": "display_data"
    }
   ],
   "source": [
    "import matplotlib.pyplot as plt\n",
    "fig = plt.figure()\n",
    "for i in range(9):\n",
    "  plt.subplot(3,3,i+1)\n",
    "  plt.tight_layout()\n",
    "  plt.imshow(X_train[i], cmap='gray', interpolation='none')\n",
    "  plt.title(\"Digit: {}\".format(Y_train[i]))\n",
    "fig"
   ]
  },
  {
   "cell_type": "markdown",
   "metadata": {},
   "source": [
    "##### Reshaping the train set as per the keras requirement"
   ]
  },
  {
   "cell_type": "code",
   "execution_count": 36,
   "metadata": {
    "id": "s0ILdld1Ol_9"
   },
   "outputs": [],
   "source": [
    "X_train = X_train.reshape(X_train.shape[0], 28, 28, 1)\n",
    "X_test = X_test.reshape(X_test.shape[0], 28, 28, 1)\n",
    "X_train = X_train.astype('float32')\n",
    "X_test = X_test.astype('float32')\n",
    "X_train /= 255\n",
    "X_test /= 255"
   ]
  },
  {
   "cell_type": "markdown",
   "metadata": {},
   "source": [
    "## one hot encoding \n"
   ]
  },
  {
   "cell_type": "code",
   "execution_count": 37,
   "metadata": {
    "colab": {
     "base_uri": "https://localhost:8080/"
    },
    "id": "mT7A9w-Ka30A",
    "outputId": "3e7c8e7c-8ea3-4cc0-eb29-a24ad9c9242a"
   },
   "outputs": [
    {
     "name": "stdout",
     "output_type": "stream",
     "text": [
      "Shape before one-hot encoding:  (60000,)\n",
      "Shape after one-hot encoding:  (60000, 10)\n"
     ]
    }
   ],
   "source": [
    "from keras.utils import np_utils\n",
    "n_classes = 10\n",
    "print(\"Shape before one-hot encoding: \", Y_train.shape)\n",
    "Y_train = np_utils.to_categorical(Y_train, n_classes)\n",
    "Y_test = np_utils.to_categorical(Y_test, n_classes)\n",
    "print(\"Shape after one-hot encoding: \", Y_train.shape)"
   ]
  },
  {
   "cell_type": "markdown",
   "metadata": {},
   "source": [
    "## Training the model"
   ]
  },
  {
   "cell_type": "code",
   "execution_count": 38,
   "metadata": {
    "colab": {
     "base_uri": "https://localhost:8080/"
    },
    "id": "VBPyUkAsbi2h",
    "outputId": "a0c6503d-0813-45ed-8591-03d171d17f16"
   },
   "outputs": [
    {
     "name": "stdout",
     "output_type": "stream",
     "text": [
      "Epoch 1/50\n",
      "469/469 [==============================] - 8s 16ms/step - loss: 0.2868 - accuracy: 0.9181 - val_loss: 3.0434 - val_accuracy: 0.1135\n",
      "Epoch 2/50\n",
      "469/469 [==============================] - 7s 16ms/step - loss: 0.0794 - accuracy: 0.9761 - val_loss: 1.7684 - val_accuracy: 0.3490\n",
      "Epoch 3/50\n",
      "469/469 [==============================] - 7s 16ms/step - loss: 0.0549 - accuracy: 0.9834 - val_loss: 0.0534 - val_accuracy: 0.9860\n",
      "Epoch 4/50\n",
      "469/469 [==============================] - 7s 16ms/step - loss: 0.0439 - accuracy: 0.9867 - val_loss: 0.0248 - val_accuracy: 0.9924\n",
      "Epoch 5/50\n",
      "469/469 [==============================] - 7s 16ms/step - loss: 0.0362 - accuracy: 0.9889 - val_loss: 0.0259 - val_accuracy: 0.9923\n",
      "Epoch 6/50\n",
      "469/469 [==============================] - 7s 16ms/step - loss: 0.0291 - accuracy: 0.9912 - val_loss: 0.0222 - val_accuracy: 0.9931\n",
      "Epoch 7/50\n",
      "469/469 [==============================] - 7s 16ms/step - loss: 0.0259 - accuracy: 0.9921 - val_loss: 0.0210 - val_accuracy: 0.9937\n",
      "Epoch 8/50\n",
      "469/469 [==============================] - 7s 16ms/step - loss: 0.0219 - accuracy: 0.9932 - val_loss: 0.0221 - val_accuracy: 0.9930\n",
      "Epoch 9/50\n",
      "469/469 [==============================] - 7s 16ms/step - loss: 0.0198 - accuracy: 0.9940 - val_loss: 0.0186 - val_accuracy: 0.9940\n",
      "Epoch 10/50\n",
      "469/469 [==============================] - 7s 16ms/step - loss: 0.0167 - accuracy: 0.9949 - val_loss: 0.0173 - val_accuracy: 0.9944\n",
      "Epoch 11/50\n",
      "469/469 [==============================] - 7s 16ms/step - loss: 0.0151 - accuracy: 0.9953 - val_loss: 0.0277 - val_accuracy: 0.9918\n",
      "Epoch 12/50\n",
      "469/469 [==============================] - 7s 16ms/step - loss: 0.0137 - accuracy: 0.9958 - val_loss: 0.0177 - val_accuracy: 0.9945\n",
      "Epoch 13/50\n",
      "469/469 [==============================] - 8s 16ms/step - loss: 0.0115 - accuracy: 0.9962 - val_loss: 0.0177 - val_accuracy: 0.9945\n",
      "Epoch 14/50\n",
      "469/469 [==============================] - 8s 16ms/step - loss: 0.0117 - accuracy: 0.9962 - val_loss: 0.0195 - val_accuracy: 0.9943\n",
      "Epoch 15/50\n",
      "469/469 [==============================] - 8s 16ms/step - loss: 0.0092 - accuracy: 0.9970 - val_loss: 0.0201 - val_accuracy: 0.9935\n",
      "Epoch 16/50\n",
      "469/469 [==============================] - 7s 16ms/step - loss: 0.0098 - accuracy: 0.9968 - val_loss: 0.0201 - val_accuracy: 0.9941\n",
      "Epoch 17/50\n",
      "469/469 [==============================] - 7s 16ms/step - loss: 0.0095 - accuracy: 0.9969 - val_loss: 0.0170 - val_accuracy: 0.9945\n",
      "Epoch 18/50\n",
      "469/469 [==============================] - 8s 16ms/step - loss: 0.0080 - accuracy: 0.9974 - val_loss: 0.0161 - val_accuracy: 0.9947\n",
      "Epoch 19/50\n",
      "469/469 [==============================] - 7s 16ms/step - loss: 0.0075 - accuracy: 0.9976 - val_loss: 0.0230 - val_accuracy: 0.9930\n",
      "Epoch 20/50\n",
      "469/469 [==============================] - 7s 16ms/step - loss: 0.0070 - accuracy: 0.9979 - val_loss: 0.0195 - val_accuracy: 0.9947\n",
      "Epoch 21/50\n",
      "469/469 [==============================] - 8s 16ms/step - loss: 0.0071 - accuracy: 0.9977 - val_loss: 0.0211 - val_accuracy: 0.9940\n",
      "Epoch 22/50\n",
      "469/469 [==============================] - 7s 16ms/step - loss: 0.0062 - accuracy: 0.9980 - val_loss: 0.0182 - val_accuracy: 0.9942\n",
      "Epoch 23/50\n",
      "469/469 [==============================] - 8s 16ms/step - loss: 0.0063 - accuracy: 0.9980 - val_loss: 0.0182 - val_accuracy: 0.9941\n",
      "Epoch 24/50\n",
      "469/469 [==============================] - 8s 16ms/step - loss: 0.0054 - accuracy: 0.9984 - val_loss: 0.0192 - val_accuracy: 0.9944\n",
      "Epoch 25/50\n",
      "469/469 [==============================] - 8s 16ms/step - loss: 0.0057 - accuracy: 0.9982 - val_loss: 0.0212 - val_accuracy: 0.9942\n",
      "Epoch 26/50\n",
      "469/469 [==============================] - 7s 16ms/step - loss: 0.0048 - accuracy: 0.9984 - val_loss: 0.0210 - val_accuracy: 0.9945\n",
      "Epoch 27/50\n",
      "469/469 [==============================] - 7s 16ms/step - loss: 0.0044 - accuracy: 0.9986 - val_loss: 0.0186 - val_accuracy: 0.9953\n",
      "Epoch 28/50\n",
      "469/469 [==============================] - 8s 16ms/step - loss: 0.0047 - accuracy: 0.9985 - val_loss: 0.0211 - val_accuracy: 0.9947\n",
      "Epoch 29/50\n",
      "469/469 [==============================] - 8s 16ms/step - loss: 0.0053 - accuracy: 0.9982 - val_loss: 0.0185 - val_accuracy: 0.9950\n",
      "Epoch 30/50\n",
      "469/469 [==============================] - 8s 16ms/step - loss: 0.0041 - accuracy: 0.9988 - val_loss: 0.0180 - val_accuracy: 0.9953\n",
      "Epoch 31/50\n",
      "469/469 [==============================] - 8s 16ms/step - loss: 0.0050 - accuracy: 0.9983 - val_loss: 0.0197 - val_accuracy: 0.9950\n",
      "Epoch 32/50\n",
      "469/469 [==============================] - 7s 16ms/step - loss: 0.0039 - accuracy: 0.9987 - val_loss: 0.0176 - val_accuracy: 0.9955\n",
      "Epoch 33/50\n",
      "469/469 [==============================] - 8s 16ms/step - loss: 0.0042 - accuracy: 0.9987 - val_loss: 0.0198 - val_accuracy: 0.9950\n",
      "Epoch 34/50\n",
      "469/469 [==============================] - 8s 16ms/step - loss: 0.0040 - accuracy: 0.9986 - val_loss: 0.0220 - val_accuracy: 0.9940\n",
      "Epoch 35/50\n",
      "469/469 [==============================] - 7s 16ms/step - loss: 0.0035 - accuracy: 0.9990 - val_loss: 0.0202 - val_accuracy: 0.9953\n",
      "Epoch 36/50\n",
      "469/469 [==============================] - 8s 16ms/step - loss: 0.0026 - accuracy: 0.9991 - val_loss: 0.0202 - val_accuracy: 0.9950\n",
      "Epoch 37/50\n",
      "469/469 [==============================] - 8s 16ms/step - loss: 0.0027 - accuracy: 0.9991 - val_loss: 0.0178 - val_accuracy: 0.9958\n",
      "Epoch 38/50\n",
      "469/469 [==============================] - 8s 16ms/step - loss: 0.0035 - accuracy: 0.9987 - val_loss: 0.0197 - val_accuracy: 0.9956\n",
      "Epoch 39/50\n",
      "469/469 [==============================] - 8s 16ms/step - loss: 0.0034 - accuracy: 0.9990 - val_loss: 0.0208 - val_accuracy: 0.9947\n",
      "Epoch 40/50\n",
      "469/469 [==============================] - 8s 16ms/step - loss: 0.0031 - accuracy: 0.9990 - val_loss: 0.0208 - val_accuracy: 0.9950\n",
      "Epoch 41/50\n",
      "469/469 [==============================] - 7s 16ms/step - loss: 0.0027 - accuracy: 0.9991 - val_loss: 0.0190 - val_accuracy: 0.9951\n",
      "Epoch 42/50\n",
      "469/469 [==============================] - 7s 16ms/step - loss: 0.0028 - accuracy: 0.9990 - val_loss: 0.0246 - val_accuracy: 0.9944\n",
      "Epoch 43/50\n",
      "469/469 [==============================] - 8s 16ms/step - loss: 0.0029 - accuracy: 0.9991 - val_loss: 0.0196 - val_accuracy: 0.9952\n",
      "Epoch 44/50\n",
      "469/469 [==============================] - 8s 16ms/step - loss: 0.0024 - accuracy: 0.9992 - val_loss: 0.0253 - val_accuracy: 0.9947\n",
      "Epoch 45/50\n",
      "469/469 [==============================] - 8s 16ms/step - loss: 0.0030 - accuracy: 0.9990 - val_loss: 0.0193 - val_accuracy: 0.9959\n",
      "Epoch 46/50\n",
      "469/469 [==============================] - 7s 16ms/step - loss: 0.0023 - accuracy: 0.9992 - val_loss: 0.0172 - val_accuracy: 0.9958\n",
      "Epoch 47/50\n",
      "469/469 [==============================] - 8s 16ms/step - loss: 0.0027 - accuracy: 0.9991 - val_loss: 0.0237 - val_accuracy: 0.9944\n",
      "Epoch 48/50\n",
      "469/469 [==============================] - 8s 16ms/step - loss: 0.0022 - accuracy: 0.9992 - val_loss: 0.0231 - val_accuracy: 0.9951\n",
      "Epoch 49/50\n",
      "469/469 [==============================] - 7s 16ms/step - loss: 0.0026 - accuracy: 0.9991 - val_loss: 0.0216 - val_accuracy: 0.9955\n",
      "Epoch 50/50\n",
      "469/469 [==============================] - 7s 16ms/step - loss: 0.0025 - accuracy: 0.9991 - val_loss: 0.0231 - val_accuracy: 0.9950\n"
     ]
    }
   ],
   "source": [
    "history1 = model.fit(X_train, Y_train, batch_size= 128, epochs=50, validation_data=(X_test, Y_test))"
   ]
  },
  {
   "cell_type": "markdown",
   "metadata": {},
   "source": [
    "## Plotting the result"
   ]
  },
  {
   "cell_type": "code",
   "execution_count": 39,
   "metadata": {
    "colab": {
     "base_uri": "https://localhost:8080/",
     "height": 573
    },
    "id": "Xo_UsVUiTmOy",
    "outputId": "abf9feb0-b102-4469-cf7c-42ed148b15b0"
   },
   "outputs": [
    {
     "data": {
      "image/png": "[encoded data removed]",
      "text/plain": [
       "<Figure size 432x288 with 1 Axes>"
      ]
     },
     "metadata": {
      "needs_background": "light",
      "tags": []
     },
     "output_type": "display_data"
    },
    {
     "data": {
      "image/png": "[encoded data removed]",
      "text/plain": [
       "<Figure size 432x288 with 1 Axes>"
      ]
     },
     "metadata": {
      "needs_background": "light",
      "tags": []
     },
     "output_type": "display_data"
    }
   ],
   "source": [
    "# summarize history for accuracy\n",
    "plt.plot(history1.history['accuracy'])\n",
    "plt.plot(history1.history['val_accuracy'])\n",
    "plt.title('model accuracy')\n",
    "plt.ylabel('accuracy')\n",
    "plt.xlabel('epoch')\n",
    "plt.legend(['train', 'validation'], loc='upper left')\n",
    "plt.show()\n",
    "\n",
    "# summarize history for loss\n",
    "plt.plot(history1.history['loss'])\n",
    "plt.plot(history1.history['val_loss'])\n",
    "plt.title('model loss')\n",
    "plt.ylabel('loss')\n",
    "plt.xlabel('epoch')\n",
    "plt.legend(['train', 'validation'], loc='upper left')\n",
    "plt.show()"
   ]
  },
  {
   "cell_type": "markdown",
   "metadata": {},
   "source": [
    "# FInal OVERVIEW\n",
    "\n",
    "##### Results   :\n",
    "   ###### Testing accuracy  =  99.50%\n",
    "   ###### Training accuracy =  99.91%\n",
    "   \n",
    "The model is performing well with the mnist dataset,the particular reason is we have more ammount of the data and so the model learned extremly well and easiy able to classify the correct results with the testing accuracy of 99.50%,\n",
    "\n",
    "Regarding the use of pretrained model : As far as my understanding is concerned The pretrained model didnot helps us much, i have also Trained the Mnist dataset on the neat model(without the pretrained one) and i got the approximate same result.The Reason i have already specifed is that we have used less data for the preatrained Model.  "
   ]
  },
  {
   "cell_type": "code",
   "execution_count": null,
   "metadata": {},
   "outputs": [],
   "source": []
  },
  {
   "cell_type": "code",
   "execution_count": null,
   "metadata": {},
   "outputs": [],
   "source": []
  }
 ],
 "metadata": {
  "accelerator": "GPU",
  "colab": {
   "name": "MIDAS PART 2.ipynb",
   "provenance": []
  },
  "kernelspec": {
   "display_name": "Python 3",
   "language": "python",
   "name": "python3"
  },
  "language_info": {
   "codemirror_mode": {
    "name": "ipython",
    "version": 3
   },
   "file_extension": ".py",
   "mimetype": "text/x-python",
   "name": "python",
   "nbconvert_exporter": "python",
   "pygments_lexer": "ipython3",
   "version": "3.8.8"
  }
 },
 "nbformat": 4,
 "nbformat_minor": 1
}
