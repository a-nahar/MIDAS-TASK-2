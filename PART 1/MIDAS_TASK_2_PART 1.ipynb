{
 "cells": [
  {
   "cell_type": "markdown",
   "metadata": {
    "id": "9cGkv5LWBAy2"
   },
   "source": [
    "## Introduction\n",
    "##### This is a Convolutional Neural Network designed for the multiclass cassification task,I have used the keras Api(tensorflow backened) And the google colab platform for building the model.\n",
    "###### Flow of the model:\n",
    "      1) Dataset lodaing\n",
    "      2) visualization of the data, and the intial intution\n",
    "      3) CNN architeutre Modelling\n",
    "      4) Data preprocessing(Normalization,Argumentation,Resizing,etc)   \n",
    "      5) Plotting The Resut\n",
    "      6) Final Overview\n",
    "      7) Reference material"
   ]
  },
  {
   "cell_type": "markdown",
   "metadata": {
    "id": "fkhM49KRBAy-"
   },
   "source": [
    "## Importing the libraires "
   ]
  },
  {
   "cell_type": "code",
   "execution_count": 1,
   "metadata": {
    "id": "f8EAvCRoeDEo"
   },
   "outputs": [],
   "source": [
    "import os\n",
    "import zipfile\n",
    "import numpy as np\n",
    "import matplotlib\n",
    "import matplotlib.pyplot as plt\n",
    "import matplotlib.image as mpimg\n",
    "import tensorflow as tf\n",
    "from tensorflow.keras.models import Sequential\n",
    "from tensorflow.keras.layers import Conv2D, Lambda, MaxPooling2D, BatchNormalization, Add# convolution layers\n",
    "from tensorflow.keras.layers import Dense, Dropout, Flatten, Input# core layers\n",
    "from tensorflow.keras import layers\n",
    "\n",
    "from tensorflow.keras.preprocessing.image import ImageDataGenerator\n",
    "from tensorflow.keras.callbacks import ReduceLROnPlateau , ModelCheckpoint\n",
    "\n",
    "from platform import python_version\n"
   ]
  },
  {
   "cell_type": "markdown",
   "metadata": {
    "id": "-hP3fFARBAzC"
   },
   "source": [
    "## Version of libraires "
   ]
  },
  {
   "cell_type": "code",
   "execution_count": 2,
   "metadata": {
    "colab": {
     "base_uri": "https://localhost:8080/"
    },
    "id": "mHVObCl0BAzD",
    "outputId": "0a5de5e7-7c84-4d16-e5a8-21797ec79af1"
   },
   "outputs": [
    {
     "name": "stdout",
     "output_type": "stream",
     "text": [
      "phython version     : 3.7.10\n",
      "numpy version       : 1.19.5\n",
      "Tensorflow version  : 2.4.1\n",
      "matplotlib version  : 3.2.2\n"
     ]
    }
   ],
   "source": [
    "print('phython version     : ' + (python_version()))\n",
    "print('numpy version       : ' + np.__version__)\n",
    "print('Tensorflow version  : ' + tf.__version__)\n",
    "print('matplotlib version  : ' + matplotlib.__version__)\n"
   ]
  },
  {
   "cell_type": "markdown",
   "metadata": {
    "id": "nt3z57GPBAzG"
   },
   "source": [
    "## Dataset Loading\n",
    "##### Flow of the next cells:\n",
    "     1) extracting the zip file\n",
    "     2) Processing the directory and subdirectories"
   ]
  },
  {
   "cell_type": "code",
   "execution_count": 4,
   "metadata": {
    "id": "QkHS4Gv1fnT4"
   },
   "outputs": [],
   "source": [
    "local_zip = '/content/trainPart1.zip'\n",
    "zip_ref   = zipfile.ZipFile(local_zip,'r')\n",
    "zip_ref.extractall('tmp/imgclassifi')\n",
    "zip_ref.close()"
   ]
  },
  {
   "cell_type": "code",
   "execution_count": 5,
   "metadata": {
    "id": "EW2WiuYIgHqQ"
   },
   "outputs": [],
   "source": [
    "train_dir = os.path.join('tmp/imgclassifi/train')\n",
    "sub_dir = [os.path.join(train_dir,o) for o in os.listdir(train_dir) if os.path.isdir(os.path.join(train_dir,o))]"
   ]
  },
  {
   "cell_type": "code",
   "execution_count": 6,
   "metadata": {
    "colab": {
     "base_uri": "https://localhost:8080/"
    },
    "id": "y7OhgOqXgRhf",
    "outputId": "66aae360-ccc3-4cef-9c8f-51f510898d81"
   },
   "outputs": [
    {
     "data": {
      "text/plain": [
       "['tmp/imgclassifi/train/Sample001',\n",
       " 'tmp/imgclassifi/train/Sample002',\n",
       " 'tmp/imgclassifi/train/Sample003',\n",
       " 'tmp/imgclassifi/train/Sample004',\n",
       " 'tmp/imgclassifi/train/Sample005',\n",
       " 'tmp/imgclassifi/train/Sample006',\n",
       " 'tmp/imgclassifi/train/Sample007',\n",
       " 'tmp/imgclassifi/train/Sample008',\n",
       " 'tmp/imgclassifi/train/Sample009',\n",
       " 'tmp/imgclassifi/train/Sample010',\n",
       " 'tmp/imgclassifi/train/Sample011',\n",
       " 'tmp/imgclassifi/train/Sample012',\n",
       " 'tmp/imgclassifi/train/Sample013',\n",
       " 'tmp/imgclassifi/train/Sample014',\n",
       " 'tmp/imgclassifi/train/Sample015',\n",
       " 'tmp/imgclassifi/train/Sample016',\n",
       " 'tmp/imgclassifi/train/Sample017',\n",
       " 'tmp/imgclassifi/train/Sample018',\n",
       " 'tmp/imgclassifi/train/Sample019',\n",
       " 'tmp/imgclassifi/train/Sample020',\n",
       " 'tmp/imgclassifi/train/Sample021',\n",
       " 'tmp/imgclassifi/train/Sample022',\n",
       " 'tmp/imgclassifi/train/Sample023',\n",
       " 'tmp/imgclassifi/train/Sample024',\n",
       " 'tmp/imgclassifi/train/Sample025',\n",
       " 'tmp/imgclassifi/train/Sample026',\n",
       " 'tmp/imgclassifi/train/Sample027',\n",
       " 'tmp/imgclassifi/train/Sample028',\n",
       " 'tmp/imgclassifi/train/Sample029',\n",
       " 'tmp/imgclassifi/train/Sample030',\n",
       " 'tmp/imgclassifi/train/Sample031',\n",
       " 'tmp/imgclassifi/train/Sample032',\n",
       " 'tmp/imgclassifi/train/Sample033',\n",
       " 'tmp/imgclassifi/train/Sample034',\n",
       " 'tmp/imgclassifi/train/Sample035',\n",
       " 'tmp/imgclassifi/train/Sample036',\n",
       " 'tmp/imgclassifi/train/Sample037',\n",
       " 'tmp/imgclassifi/train/Sample038',\n",
       " 'tmp/imgclassifi/train/Sample039',\n",
       " 'tmp/imgclassifi/train/Sample040',\n",
       " 'tmp/imgclassifi/train/Sample041',\n",
       " 'tmp/imgclassifi/train/Sample042',\n",
       " 'tmp/imgclassifi/train/Sample043',\n",
       " 'tmp/imgclassifi/train/Sample044',\n",
       " 'tmp/imgclassifi/train/Sample045',\n",
       " 'tmp/imgclassifi/train/Sample046',\n",
       " 'tmp/imgclassifi/train/Sample047',\n",
       " 'tmp/imgclassifi/train/Sample048',\n",
       " 'tmp/imgclassifi/train/Sample049',\n",
       " 'tmp/imgclassifi/train/Sample050',\n",
       " 'tmp/imgclassifi/train/Sample051',\n",
       " 'tmp/imgclassifi/train/Sample052',\n",
       " 'tmp/imgclassifi/train/Sample053',\n",
       " 'tmp/imgclassifi/train/Sample054',\n",
       " 'tmp/imgclassifi/train/Sample055',\n",
       " 'tmp/imgclassifi/train/Sample056',\n",
       " 'tmp/imgclassifi/train/Sample057',\n",
       " 'tmp/imgclassifi/train/Sample058',\n",
       " 'tmp/imgclassifi/train/Sample059',\n",
       " 'tmp/imgclassifi/train/Sample060',\n",
       " 'tmp/imgclassifi/train/Sample061',\n",
       " 'tmp/imgclassifi/train/Sample062']"
      ]
     },
     "execution_count": 6,
     "metadata": {
      "tags": []
     },
     "output_type": "execute_result"
    }
   ],
   "source": [
    "sub_dir.sort()\n",
    "sub_dir"
   ]
  },
  {
   "cell_type": "markdown",
   "metadata": {
    "id": "cJ_hK67XBAzK"
   },
   "source": [
    "## Intial Intution\n",
    "\n",
    "First I have checked the data manually to get some insights of the data,the dataset contain a Train Directory & which further contain Subdirectories,after that i checkout each of the subdirectory since dataset is quite small it hardly takes me 10 min to get the insights of the data which are specified below.\n",
    "\n",
    "    1) The dataset has 62 subdirectories, Each subdirectory has 40 images.\n",
    "    2) Total images  = 62*40 = 2480.\n",
    "    3) The dataset is balanced and there is no noise(arbitratry images) in the datasets\n",
    "    4) The image background is White while the digits is of Balck colour\n",
    "    5) The images dimension is 1200*900"
   ]
  },
  {
   "cell_type": "markdown",
   "metadata": {
    "id": "4X0qGw_PBAzL"
   },
   "source": [
    "## visualization Function \n",
    "This function helps up to visulaize the data on the notebook itself,its a adaptive logic,each time we run the cell we will get the different sets of images.\n",
    "This function will show us the 5(this value can be change in Code) images of each types of the class in the datasets."
   ]
  },
  {
   "cell_type": "code",
   "execution_count": 7,
   "metadata": {
    "id": "WntQyvsKgSsq"
   },
   "outputs": [],
   "source": [
    "i_index = 0"
   ]
  },
  {
   "cell_type": "code",
   "execution_count": 8,
   "metadata": {
    "colab": {
     "base_uri": "https://localhost:8080/",
     "height": 1000
    },
    "id": "3qIZWHGngVl0",
    "outputId": "ee366ec9-058b-47b1-8f28-718cadfc1f4c"
   },
   "outputs": [
    {
     "data": {
      "image/png": "[encoded data removed]",
      "text/plain": [
       "<Figure size 360x360 with 5 Axes>"
      ]
     },
     "metadata": {
      "needs_background": "light",
      "tags": []
     },
     "output_type": "display_data"
    },
    {
     "data": {
      "image/png": "[encoded data removed]",
      "text/plain": [
       "<Figure size 360x360 with 5 Axes>"
      ]
     },
     "metadata": {
      "needs_background": "light",
      "tags": []
     },
     "output_type": "display_data"
    },
    {
     "data": {
      "image/png": "[encoded data removed]",
      "text/plain": [
       "<Figure size 360x360 with 5 Axes>"
      ]
     },
     "metadata": {
      "needs_background": "light",
      "tags": []
     },
     "output_type": "display_data"
    },
    {
     "data": {
      "image/png": "[encoded data removed]",
      "text/plain": [
       "<Figure size 360x360 with 5 Axes>"
      ]
     },
     "metadata": {
      "needs_background": "light",
      "tags": []
     },
     "output_type": "display_data"
    },
    {
     "data": {
      "image/png": "[encoded data removed]",
      "text/plain": [
       "<Figure size 360x360 with 5 Axes>"
      ]
     },
     "metadata": {
      "needs_background": "light",
      "tags": []
     },
     "output_type": "display_data"
    },
    {
     "data": {
      "image/png": "[encoded data removed]",
      "text/plain": [
       "<Figure size 360x360 with 5 Axes>"
      ]
     },
     "metadata": {
      "needs_background": "light",
      "tags": []
     },
     "output_type": "display_data"
    },
    {
     "data": {
      "image/png": "[encoded data removed]",
      "text/plain": [
       "<Figure size 360x360 with 5 Axes>"
      ]
     },
     "metadata": {
      "needs_background": "light",
      "tags": []
     },
     "output_type": "display_data"
    },
    {
     "data": {
      "image/png": "[encoded data removed]",
      "text/plain": [
       "<Figure size 360x360 with 5 Axes>"
      ]
     },
     "metadata": {
      "needs_background": "light",
      "tags": []
     },
     "output_type": "display_data"
    },
    {
     "data": {
      "image/png": "[encoded data removed]",
      "text/plain": [
       "<Figure size 360x360 with 5 Axes>"
      ]
     },
     "metadata": {
      "needs_background": "light",
      "tags": []
     },
     "output_type": "display_data"
    },
    {
     "data": {
      "image/png": "[encoded data removed]",
      "text/plain": [
       "<Figure size 360x360 with 5 Axes>"
      ]
     },
     "metadata": {
      "needs_background": "light",
      "tags": []
     },
     "output_type": "display_data"
    },
    {
     "data": {
      "image/png": "[encoded data removed]",
      "text/plain": [
       "<Figure size 360x360 with 5 Axes>"
      ]
     },
     "metadata": {
      "needs_background": "light",
      "tags": []
     },
     "output_type": "display_data"
    },
    {
     "data": {
      "image/png": "[encoded data removed]",
      "text/plain": [
       "<Figure size 360x360 with 5 Axes>"
      ]
     },
     "metadata": {
      "needs_background": "light",
      "tags": []
     },
     "output_type": "display_data"
    },
    {
     "data": {
      "image/png": "[encoded data removed]",
      "text/plain": [
       "<Figure size 360x360 with 5 Axes>"
      ]
     },
     "metadata": {
      "needs_background": "light",
      "tags": []
     },
     "output_type": "display_data"
    },
    {
     "data": {
      "image/png": "[encoded data removed]",
      "text/plain": [
       "<Figure size 360x360 with 5 Axes>"
      ]
     },
     "metadata": {
      "needs_background": "light",
      "tags": []
     },
     "output_type": "display_data"
    },
    {
     "data": {
      "image/png": "[encoded data removed]",
      "text/plain": [
       "<Figure size 360x360 with 5 Axes>"
      ]
     },
     "metadata": {
      "needs_background": "light",
      "tags": []
     },
     "output_type": "display_data"
    },
    {
     "data": {
      "image/png": "[encoded data removed]",
      "text/plain": [
       "<Figure size 360x360 with 5 Axes>"
      ]
     },
     "metadata": {
      "needs_background": "light",
      "tags": []
     },
     "output_type": "display_data"
    },
    {
     "data": {
      "image/png": "[encoded data removed]",
      "text/plain": [
       "<Figure size 360x360 with 5 Axes>"
      ]
     },
     "metadata": {
      "needs_background": "light",
      "tags": []
     },
     "output_type": "display_data"
    },
    {
     "data": {
      "image/png": "[encoded data removed]",
      "text/plain": [
       "<Figure size 360x360 with 5 Axes>"
      ]
     },
     "metadata": {
      "needs_background": "light",
      "tags": []
     },
     "output_type": "display_data"
    },
    {
     "data": {
      "image/png": "[encoded data removed]",
      "text/plain": [
       "<Figure size 360x360 with 5 Axes>"
      ]
     },
     "metadata": {
      "needs_background": "light",
      "tags": []
     },
     "output_type": "display_data"
    },
    {
     "data": {
      "image/png": "[encoded data removed]",
      "text/plain": [
       "<Figure size 360x360 with 5 Axes>"
      ]
     },
     "metadata": {
      "needs_background": "light",
      "tags": []
     },
     "output_type": "display_data"
    },
    {
     "data": {
      "image/png": "[encoded data removed]",
      "text/plain": [
       "<Figure size 360x360 with 5 Axes>"
      ]
     },
     "metadata": {
      "needs_background": "light",
      "tags": []
     },
     "output_type": "display_data"
    },
    {
     "data": {
      "image/png": "[encoded data removed]",
      "text/plain": [
       "<Figure size 360x360 with 5 Axes>"
      ]
     },
     "metadata": {
      "needs_background": "light",
      "tags": []
     },
     "output_type": "display_data"
    },
    {
     "data": {
      "image/png": "[encoded data removed]",
      "text/plain": [
       "<Figure size 360x360 with 5 Axes>"
      ]
     },
     "metadata": {
      "needs_background": "light",
      "tags": []
     },
     "output_type": "display_data"
    },
    {
     "data": {
      "image/png": "[encoded data removed]",
      "text/plain": [
       "<Figure size 360x360 with 5 Axes>"
      ]
     },
     "metadata": {
      "needs_background": "light",
      "tags": []
     },
     "output_type": "display_data"
    },
    {
     "data": {
      "image/png": "[encoded data removed]",
      "text/plain": [
       "<Figure size 360x360 with 5 Axes>"
      ]
     },
     "metadata": {
      "needs_background": "light",
      "tags": []
     },
     "output_type": "display_data"
    },
    {
     "data": {
      "image/png": "[encoded data removed]",
      "text/plain": [
       "<Figure size 360x360 with 5 Axes>"
      ]
     },
     "metadata": {
      "needs_background": "light",
      "tags": []
     },
     "output_type": "display_data"
    },
    {
     "data": {
      "image/png": "[encoded data removed]",
      "text/plain": [
       "<Figure size 360x360 with 5 Axes>"
      ]
     },
     "metadata": {
      "needs_background": "light",
      "tags": []
     },
     "output_type": "display_data"
    },
    {
     "data": {
      "image/png": "[encoded data removed]",
      "text/plain": [
       "<Figure size 360x360 with 5 Axes>"
      ]
     },
     "metadata": {
      "needs_background": "light",
      "tags": []
     },
     "output_type": "display_data"
    },
    {
     "data": {
      "image/png": "[encoded data removed]",
      "text/plain": [
       "<Figure size 360x360 with 5 Axes>"
      ]
     },
     "metadata": {
      "needs_background": "light",
      "tags": []
     },
     "output_type": "display_data"
    },
    {
     "data": {
      "image/png": "[encoded data removed]",
      "text/plain": [
       "<Figure size 360x360 with 5 Axes>"
      ]
     },
     "metadata": {
      "needs_background": "light",
      "tags": []
     },
     "output_type": "display_data"
    },
    {
     "data": {
      "image/png": "[encoded data removed]",
      "text/plain": [
       "<Figure size 360x360 with 5 Axes>"
      ]
     },
     "metadata": {
      "needs_background": "light",
      "tags": []
     },
     "output_type": "display_data"
    },
    {
     "data": {
      "image/png": "[encoded data removed]",
      "text/plain": [
       "<Figure size 360x360 with 5 Axes>"
      ]
     },
     "metadata": {
      "needs_background": "light",
      "tags": []
     },
     "output_type": "display_data"
    },
    {
     "data": {
      "image/png": "[encoded data removed]",
      "text/plain": [
       "<Figure size 360x360 with 5 Axes>"
      ]
     },
     "metadata": {
      "needs_background": "light",
      "tags": []
     },
     "output_type": "display_data"
    },
    {
     "data": {
      "image/png": "[encoded data removed]",
      "text/plain": [
       "<Figure size 360x360 with 5 Axes>"
      ]
     },
     "metadata": {
      "needs_background": "light",
      "tags": []
     },
     "output_type": "display_data"
    },
    {
     "data": {
      "image/png": "[encoded data removed]",
      "text/plain": [
       "<Figure size 360x360 with 5 Axes>"
      ]
     },
     "metadata": {
      "needs_background": "light",
      "tags": []
     },
     "output_type": "display_data"
    },
    {
     "data": {
      "image/png": "[encoded data removed]",
      "text/plain": [
       "<Figure size 360x360 with 5 Axes>"
      ]
     },
     "metadata": {
      "needs_background": "light",
      "tags": []
     },
     "output_type": "display_data"
    },
    {
     "data": {
      "image/png": "[encoded data removed]",
      "text/plain": [
       "<Figure size 360x360 with 5 Axes>"
      ]
     },
     "metadata": {
      "needs_background": "light",
      "tags": []
     },
     "output_type": "display_data"
    },
    {
     "data": {
      "image/png": "[encoded data removed]",
      "text/plain": [
       "<Figure size 360x360 with 5 Axes>"
      ]
     },
     "metadata": {
      "needs_background": "light",
      "tags": []
     },
     "output_type": "display_data"
    },
    {
     "data": {
      "image/png": "[encoded data removed]",
      "text/plain": [
       "<Figure size 360x360 with 5 Axes>"
      ]
     },
     "metadata": {
      "needs_background": "light",
      "tags": []
     },
     "output_type": "display_data"
    },
    {
     "data": {
      "image/png": "[encoded data removed]",
      "text/plain": [
       "<Figure size 360x360 with 5 Axes>"
      ]
     },
     "metadata": {
      "needs_background": "light",
      "tags": []
     },
     "output_type": "display_data"
    },
    {
     "data": {
      "image/png": "[encoded data removed]",
      "text/plain": [
       "<Figure size 360x360 with 5 Axes>"
      ]
     },
     "metadata": {
      "needs_background": "light",
      "tags": []
     },
     "output_type": "display_data"
    },
    {
     "data": {
      "image/png": "[encoded data removed]",
      "text/plain": [
       "<Figure size 360x360 with 5 Axes>"
      ]
     },
     "metadata": {
      "needs_background": "light",
      "tags": []
     },
     "output_type": "display_data"
    },
    {
     "data": {
      "image/png": "[encoded data removed]",
      "text/plain": [
       "<Figure size 360x360 with 5 Axes>"
      ]
     },
     "metadata": {
      "needs_background": "light",
      "tags": []
     },
     "output_type": "display_data"
    },
    {
     "data": {
      "image/png": "[encoded data removed]",
      "text/plain": [
       "<Figure size 360x360 with 5 Axes>"
      ]
     },
     "metadata": {
      "needs_background": "light",
      "tags": []
     },
     "output_type": "display_data"
    },
    {
     "data": {
      "image/png": "[encoded data removed]",
      "text/plain": [
       "<Figure size 360x360 with 5 Axes>"
      ]
     },
     "metadata": {
      "needs_background": "light",
      "tags": []
     },
     "output_type": "display_data"
    },
    {
     "data": {
      "image/png": "[encoded data removed]",
      "text/plain": [
       "<Figure size 360x360 with 5 Axes>"
      ]
     },
     "metadata": {
      "needs_background": "light",
      "tags": []
     },
     "output_type": "display_data"
    },
    {
     "data": {
      "image/png": "[encoded data removed]",
      "text/plain": [
       "<Figure size 360x360 with 5 Axes>"
      ]
     },
     "metadata": {
      "needs_background": "light",
      "tags": []
     },
     "output_type": "display_data"
    },
    {
     "data": {
      "image/png": "[encoded data removed]",
      "text/plain": [
       "<Figure size 360x360 with 5 Axes>"
      ]
     },
     "metadata": {
      "needs_background": "light",
      "tags": []
     },
     "output_type": "display_data"
    },
    {
     "data": {
      "image/png": "[encoded data removed]",
      "text/plain": [
       "<Figure size 360x360 with 5 Axes>"
      ]
     },
     "metadata": {
      "needs_background": "light",
      "tags": []
     },
     "output_type": "display_data"
    },
    {
     "data": {
      "image/png": "[encoded data removed]",
      "text/plain": [
       "<Figure size 360x360 with 5 Axes>"
      ]
     },
     "metadata": {
      "needs_background": "light",
      "tags": []
     },
     "output_type": "display_data"
    },
    {
     "data": {
      "image/png": "[encoded data removed]",
      "text/plain": [
       "<Figure size 360x360 with 5 Axes>"
      ]
     },
     "metadata": {
      "needs_background": "light",
      "tags": []
     },
     "output_type": "display_data"
    },
    {
     "data": {
      "image/png": "[encoded data removed]",
      "text/plain": [
       "<Figure size 360x360 with 5 Axes>"
      ]
     },
     "metadata": {
      "needs_background": "light",
      "tags": []
     },
     "output_type": "display_data"
    },
    {
     "data": {
      "image/png": "[encoded data removed]",
      "text/plain": [
       "<Figure size 360x360 with 5 Axes>"
      ]
     },
     "metadata": {
      "needs_background": "light",
      "tags": []
     },
     "output_type": "display_data"
    },
    {
     "data": {
      "image/png": "[encoded data removed]",
      "text/plain": [
       "<Figure size 360x360 with 5 Axes>"
      ]
     },
     "metadata": {
      "needs_background": "light",
      "tags": []
     },
     "output_type": "display_data"
    },
    {
     "data": {
      "image/png": "[encoded data removed]",
      "text/plain": [
       "<Figure size 360x360 with 5 Axes>"
      ]
     },
     "metadata": {
      "needs_background": "light",
      "tags": []
     },
     "output_type": "display_data"
    },
    {
     "data": {
      "image/png": "[encoded data removed]",
      "text/plain": [
       "<Figure size 360x360 with 5 Axes>"
      ]
     },
     "metadata": {
      "needs_background": "light",
      "tags": []
     },
     "output_type": "display_data"
    },
    {
     "data": {
      "image/png": "[encoded data removed]",
      "text/plain": [
       "<Figure size 360x360 with 5 Axes>"
      ]
     },
     "metadata": {
      "needs_background": "light",
      "tags": []
     },
     "output_type": "display_data"
    },
    {
     "data": {
      "image/png": "[encoded data removed]",
      "text/plain": [
       "<Figure size 360x360 with 5 Axes>"
      ]
     },
     "metadata": {
      "needs_background": "light",
      "tags": []
     },
     "output_type": "display_data"
    },
    {
     "data": {
      "image/png": "[encoded data removed]",
      "text/plain": [
       "<Figure size 360x360 with 5 Axes>"
      ]
     },
     "metadata": {
      "needs_background": "light",
      "tags": []
     },
     "output_type": "display_data"
    },
    {
     "data": {
      "image/png": "[encoded data removed]",
      "text/plain": [
       "<Figure size 360x360 with 5 Axes>"
      ]
     },
     "metadata": {
      "needs_background": "light",
      "tags": []
     },
     "output_type": "display_data"
    },
    {
     "data": {
      "image/png": "[encoded data removed]",
      "text/plain": [
       "<Figure size 360x360 with 5 Axes>"
      ]
     },
     "metadata": {
      "needs_background": "light",
      "tags": []
     },
     "output_type": "display_data"
    },
    {
     "data": {
      "image/png": "[encoded data removed]",
      "text/plain": [
       "<Figure size 360x360 with 5 Axes>"
      ]
     },
     "metadata": {
      "needs_background": "light",
      "tags": []
     },
     "output_type": "display_data"
    }
   ],
   "source": [
    "num_img = 5\n",
    "f_index = i_index + num_img\n",
    "#fig = plt.gcf()\n",
    "#fig.set_size_inches(4*2,4*2)\n",
    "\n",
    "for j in range(len(sub_dir)):\n",
    "    \n",
    "    fig = plt.gcf()\n",
    "    fig.set_size_inches(num_img*1,num_img*1)\n",
    "                        \n",
    "    for i,img in enumerate(os.listdir(sub_dir[j])[i_index:f_index]):\n",
    "                        \n",
    "        sp = plt.subplot(num_img,num_img,i+1)\n",
    "        sp.axis('off')\n",
    "                        \n",
    "        img_path = os.path.join(sub_dir[j],img)\n",
    "        image   = mpimg.imread(img_path)\n",
    "        plt.imshow(image)\n",
    "                        \n",
    "    plt.show()\n",
    "\n",
    "i_index = f_index\n",
    "    "
   ]
  },
  {
   "cell_type": "markdown",
   "metadata": {
    "id": "Qssi4XVjBAzO"
   },
   "source": [
    "## CNN\n",
    "\n",
    "###### Defining the Model:\n",
    "I used the keras functional api to create the model,I have used Five convolutional(COnv2D) layer with filter sizes 64-->64-->128-->256-->256, these layer has the ability to extract the valuable features from the images,filter is applied on a whole image,the filter size is defined by the kernel size that is (3,3), these filter extract a particular features of the images.\n",
    "\n",
    "The next is Maxpool2D layer,which acts as a downsampling fiter,i have chosen the filter size of (2,2) for maxpooling layer,it basically looked at the neighbouring pixels and take the Max one,These are used to reduce the computational cost and overfitting of the model also.\n",
    "\n",
    "The 3rd type of layer is dropout,which basically deactivate some of the neurons in a particular layer, It's a very handfu way to prevent overfiiting of the model.\n",
    "\n",
    "The 4th is the Skip connection layer which I have implemented for the uninterrupted gradient flow Layers to Layers.\n",
    "\n",
    "The other layers are the BatchNormailzation which standardizes and normalizes the input values,it helps us to mitigates the effect of unstable gradients within deep neural networks,\n",
    "& the last is dense layer.\n",
    "\n",
    "\n",
    "The activation function that I have used is Relu and kernel intializer is 'he_normal',\n",
    "\n",
    "loss function is : catgorical crossentropy.\n",
    "\n",
    "optimizer : Adam with Learning rate  = 0.01.\n",
    "\n",
    "metrics : Accuracy.\n",
    "\n",
    "Callbacks : \n",
    "          1)Reduce leraing rate on plateau  : to reduce the learing rate whenever the validation loss is not reducing within 3                                                 epochs by the factor of 0.5.\n",
    "          2)Model checkpoint                : to save the model with the max validation accuracy.\n",
    "          \n",
    "###### NOTE : I have tried various various layer combination and various other techniques which didn't seem benefitting to me,I have created a compelete experiment log (jupyter notebook) which can be find on the repo By name EXPERIMENT LOG & the reference material is attached at the end of this notbook\n",
    "\n"
   ]
  },
  {
   "cell_type": "code",
   "execution_count": 14,
   "metadata": {
    "id": "ATG4ZEcKOOsJ"
   },
   "outputs": [],
   "source": [
    "def build_model():\n",
    "  inp = Input(shape = (28,28,1))\n",
    "  x1  = Conv2D(filters=64, kernel_size = (3,3), activation=\"relu\",  kernel_initializer= 'he_normal')(inp)\n",
    "  x1  = Conv2D(filters=64, kernel_size = (3,3), activation=\"relu\", kernel_initializer= 'he_normal')(x1)\n",
    "  x1  = MaxPooling2D(pool_size=(2,2))(x1)\n",
    "  x1  = Dropout(0.20)(x1)\n",
    "  x1  = BatchNormalization()(x1)\n",
    "\n",
    "  x2  = Conv2D(filters=128, kernel_size = (3,3), activation=\"relu\", kernel_initializer= 'he_normal')(x1)\n",
    "  x2  = Conv2D(filters=256, kernel_size = (3,3), activation=\"relu\", kernel_initializer= 'he_normal')(x2)\n",
    "  x2  = MaxPooling2D(pool_size=(2,2))(x2)\n",
    "  x2  = Dropout(0.25)(x2)\n",
    "  x2  = BatchNormalization()(x2)\n",
    "\n",
    "\n",
    "  #x3  = Add()([x1,x2])\n",
    "  x3  = Conv2D(filters=256, kernel_size = (3,3), activation=\"relu\", kernel_initializer= 'he_normal')(x2)\n",
    "  #x3  = Conv2D(filters=128, kernel_size = (3,3), activation=\"relu\")(x2)\n",
    "  x3  = MaxPooling2D(pool_size=(2,2))(x3)\n",
    "  x3  = Dropout(0.25)(x3)\n",
    "  x3  = Flatten()(x3)\n",
    "  x3  = BatchNormalization()(x3)\n",
    "\n",
    "  x4  = Add()([x2,x3])                        # skip connection\n",
    "\n",
    "  x4  = Dense(512,activation=\"relu\")(x4)\n",
    "  x4  = Dropout(0.20)(x4)\n",
    "  out  = Dense(62,activation=\"softmax\")(x3)   #We have 62 classes\n",
    "  \n",
    "  return tf.keras.Model(inp,out)\n",
    "\n",
    "\n",
    "\n",
    "model = build_model()\n",
    "\n",
    "rlr = ReduceLROnPlateau(monitor='val_accuracy', patience=3, verbose=1, factor=0.5, min_lr=0.0001)   # minimun leraing rate 0.0001\n",
    "ckp = ModelCheckpoint('best_model.h5', monitor = 'val_accuracy',verbose = 1, save_best_only = True, mode = 'max')\n",
    "\n",
    "    \n",
    "model.compile(loss=\"categorical_crossentropy\",optimizer=tf.optimizers.Adam(learning_rate = 0.01), metrics=[\"accuracy\"])\n"
   ]
  },
  {
   "cell_type": "code",
   "execution_count": null,
   "metadata": {
    "id": "16wE2KuggYGl"
   },
   "outputs": [],
   "source": [
    "'''\n",
    "\n",
    "\n",
    "model=Sequential()\n",
    "\n",
    "   \n",
    "model.add(Conv2D(filters=64, kernel_size = (3,3), activation=\"relu\", input_shape=(28,28,1)))\n",
    "model.add(Conv2D(filters=64, kernel_size = (3,3), activation=\"relu\"))\n",
    "model.add(MaxPooling2D(pool_size=(2,2)))\n",
    "model.add(Dropout(0.2))\n",
    "\n",
    "model.add(BatchNormalization())\n",
    "model.add(Conv2D(filters=128, kernel_size = (3,3), activation=\"relu\"))\n",
    "model.add(Conv2D(filters=128, kernel_size = (3,3), activation=\"relu\"))\n",
    "model.add(MaxPooling2D(pool_size=(2,2)))\n",
    "model.add(Dropout(0.25))\n",
    "\n",
    "model.add(BatchNormalization())    \n",
    "model.add(Conv2D(filters=256, kernel_size = (3,3), activation=\"relu\"))    \n",
    "model.add(MaxPooling2D(pool_size=(2,2)))\n",
    "model.add(Dropout(0.20))\n",
    "\n",
    "\n",
    "model.add(Flatten())\n",
    "model.add(BatchNormalization())\n",
    "model.add(Dense(512,activation=\"relu\"))\n",
    "model.add(Dropout(0.25))\n",
    "\n",
    "model.add(Dense(62,activation=\"softmax\"))\n",
    "\n",
    "'''\n",
    "\n",
    "\n",
    "\n",
    "\n",
    "'''\n",
    "model = tf.keras.Sequential()\n",
    "model.add(Conv2D(64,(3,3),activation = 'relu',input_shape =(56,56,1)))\n",
    "model.add(MaxPooling2D(2, 2))\n",
    "model.add(Conv2D(128, (3,3), activation='relu'))\n",
    "model.add(MaxPooling2D(2,2))\n",
    "model.add(Conv2D(64, (3,3), activation='relu'))\n",
    "model.add(MaxPooling2D(2,2))\n",
    "model.add(Conv2D(128, (3,3), activation='relu'))\n",
    "model.add(MaxPooling2D(2,2))\n",
    "model.add(Conv2D(64, (3,3), activation='relu'))\n",
    "model.add(MaxPooling2D(2,2))\n",
    "model.add(Flatten())\n",
    "model.add(Dense(512, activation='relu'))\n",
    "model.add(Dense(62,activation=\"softmax\"))\n",
    "'''\n",
    "'''\n",
    "rlr = ReduceLROnPlateau(monitor='val_accuracy', patience=3, verbose=1, factor=0.5, min_lr=0.0001)\n",
    "ckp = ModelCheckpoint('Unet_model.h5', monitor = 'val_loss',verbose = 1, save_best_only = True, mode = 'min')\n",
    "\n",
    "    \n",
    "model.compile(loss=\"categorical_crossentropy\",optimizer=tf.optimizers.Adam(learning_rate = 0.01), metrics=[\"accuracy\"])\n",
    "'''"
   ]
  },
  {
   "cell_type": "markdown",
   "metadata": {
    "id": "gAiYZZxfBAzU"
   },
   "source": [
    "## Data preprocessing & Argumentation\n",
    "\n",
    "In the next cell, I am using the keras Image Data generator for the preprocessing and Data argumentation of the data.\n",
    "\n",
    "##### Preprocessing :\n",
    "1) RESIZE: \n",
    "\n",
    "      DIMENSION                     : I Resize all the images to dimension (28,28).\n",
    "      \n",
    "      INTUTION behind the (28,28)   : I checkout the the image with various various dimesions (300 300),(150 150),(75,75),                                          (50,50),(28,28),(14,14), and i found out that with my human vision the image can easily\n",
    "      classify with the dimension of 28*28 so i Choose this Dimesion).\n",
    "      \n",
    "      BENFIT                        : Redunce computational cost,Training Will be faster \n",
    "\n",
    "      INITAL DIMESION OF THE IMAGES : 1200*900\n",
    "      FINAL DIMESION OF THE IMAGES  : 28*28\n",
    "\n",
    "2) GRAYSCALE NORMALIZATION : \n",
    "To Reduce the illumination effect and for speeding the the converging process( CNN Convergerges much faster on [0..1] Data than on [0..255]\n",
    "\n",
    "3) TRAIN-TEST SPLIT : Training 80% , Testing 20% ,Since i have a very less data so i have give 80% for training and rest for vaidating the model.\n",
    "\n",
    "4) One hot encoding : The traingenerator will automaticaly perform the one hot encoding of the images based on the directory they are in. \n",
    "\n",
    "##### Agumentation : Its a very crucial step, since we have less data, argumentation will helps us to expand the dataset and  prevents the overfitting of the model.\n",
    "\n",
    "     FOR THE DATA-ARGUMENTAION I CHOOSE   :\n",
    "\n",
    "     1)Randomly rotate some training images by 10 degrees.\n",
    "     2)Randomly Zoom by 10% some training images.\n",
    "     3)Randomly shift images horizontally by 10% of the width.\n",
    "     4)Randomly shift images vertically by 10% of the height.\n",
    "     5)Horizontal Flip and vertical flip is set to 0,(since the (6,9)(o,Q)(1,7) etc. can be misclassified)\n",
    "     \n",
    "##### Batch size  = 32\n",
    "##### Epouchs    =  60\n",
    "\n"
   ]
  },
  {
   "cell_type": "code",
   "execution_count": 10,
   "metadata": {
    "colab": {
     "base_uri": "https://localhost:8080/"
    },
    "id": "FKvLmEwWjMsq",
    "outputId": "769bdd04-7986-416a-892c-25154feb166e"
   },
   "outputs": [
    {
     "name": "stdout",
     "output_type": "stream",
     "text": [
      "Found 1984 images belonging to 62 classes.\n",
      "Found 496 images belonging to 62 classes.\n"
     ]
    }
   ],
   "source": [
    "\n",
    "batchsize = 32\n",
    "EPOUCH    = 60\n",
    "\n",
    "train_datagen = ImageDataGenerator(  \n",
    "       \n",
    "        featurewise_center=False,  \n",
    "        samplewise_center=False,  \n",
    "        featurewise_std_normalization=False,  \n",
    "        samplewise_std_normalization=False,  \n",
    "        zca_whitening=False,  \n",
    "        rotation_range= 10,     \n",
    "        zoom_range = 0.1,  \n",
    "        width_shift_range=0.1,  \n",
    "        height_shift_range=0.1,  \n",
    "        horizontal_flip=False,  \n",
    "        vertical_flip=False,\n",
    "        validation_split = 0.2)\n",
    "\n",
    "\n",
    "\n",
    "train_generator = train_datagen.flow_from_directory(\n",
    "        train_dir,  # This is the source directory for training images\n",
    "        target_size=(28,28),  # All images will be resized to 28*28\n",
    "        batch_size=batchsize,\n",
    "        color_mode = \"grayscale\",\n",
    "        class_mode='categorical',\n",
    "        subset = 'training')\n",
    "\n",
    "validation_generator = train_datagen.flow_from_directory(\n",
    "        train_dir,  # This is the source directory for training images\n",
    "        target_size=(28,28),  # All images will be resized to 28*28\n",
    "        batch_size=batchsize,\n",
    "        color_mode = \"grayscale\",\n",
    "        class_mode='categorical',\n",
    "        subset = 'validation')"
   ]
  },
  {
   "cell_type": "markdown",
   "metadata": {
    "id": "mSrFI4RoBAzX"
   },
   "source": [
    "### Model summary"
   ]
  },
  {
   "cell_type": "code",
   "execution_count": 15,
   "metadata": {
    "colab": {
     "base_uri": "https://localhost:8080/"
    },
    "id": "h4pQwNJYjLUJ",
    "outputId": "bc295619-41f9-4b42-e239-a48b31436cfb"
   },
   "outputs": [
    {
     "name": "stdout",
     "output_type": "stream",
     "text": [
      "Model: \"model_1\"\n",
      "_________________________________________________________________\n",
      "Layer (type)                 Output Shape              Param #   \n",
      "=================================================================\n",
      "input_2 (InputLayer)         [(None, 28, 28, 1)]       0         \n",
      "_________________________________________________________________\n",
      "conv2d_5 (Conv2D)            (None, 26, 26, 64)        640       \n",
      "_________________________________________________________________\n",
      "conv2d_6 (Conv2D)            (None, 24, 24, 64)        36928     \n",
      "_________________________________________________________________\n",
      "max_pooling2d_3 (MaxPooling2 (None, 12, 12, 64)        0         \n",
      "_________________________________________________________________\n",
      "dropout_4 (Dropout)          (None, 12, 12, 64)        0         \n",
      "_________________________________________________________________\n",
      "batch_normalization_3 (Batch (None, 12, 12, 64)        256       \n",
      "_________________________________________________________________\n",
      "conv2d_7 (Conv2D)            (None, 10, 10, 128)       73856     \n",
      "_________________________________________________________________\n",
      "conv2d_8 (Conv2D)            (None, 8, 8, 256)         295168    \n",
      "_________________________________________________________________\n",
      "max_pooling2d_4 (MaxPooling2 (None, 4, 4, 256)         0         \n",
      "_________________________________________________________________\n",
      "dropout_5 (Dropout)          (None, 4, 4, 256)         0         \n",
      "_________________________________________________________________\n",
      "batch_normalization_4 (Batch (None, 4, 4, 256)         1024      \n",
      "_________________________________________________________________\n",
      "conv2d_9 (Conv2D)            (None, 2, 2, 256)         590080    \n",
      "_________________________________________________________________\n",
      "max_pooling2d_5 (MaxPooling2 (None, 1, 1, 256)         0         \n",
      "_________________________________________________________________\n",
      "dropout_6 (Dropout)          (None, 1, 1, 256)         0         \n",
      "_________________________________________________________________\n",
      "flatten_1 (Flatten)          (None, 256)               0         \n",
      "_________________________________________________________________\n",
      "batch_normalization_5 (Batch (None, 256)               1024      \n",
      "_________________________________________________________________\n",
      "dense_3 (Dense)              (None, 62)                15934     \n",
      "=================================================================\n",
      "Total params: 1,014,910\n",
      "Trainable params: 1,013,758\n",
      "Non-trainable params: 1,152\n",
      "_________________________________________________________________\n"
     ]
    }
   ],
   "source": [
    "model.summary()"
   ]
  },
  {
   "cell_type": "markdown",
   "metadata": {
    "id": "47hM37E9BAzY"
   },
   "source": [
    "## Training of the model"
   ]
  },
  {
   "cell_type": "code",
   "execution_count": 16,
   "metadata": {
    "colab": {
     "base_uri": "https://localhost:8080/"
    },
    "id": "GLbcrSxOjWqj",
    "outputId": "72ffd4ce-6fdd-44d1-98ff-952c4e56f1a0"
   },
   "outputs": [
    {
     "name": "stderr",
     "output_type": "stream",
     "text": [
      "/usr/local/lib/python3.7/dist-packages/tensorflow/python/keras/engine/training.py:1844: UserWarning: `Model.fit_generator` is deprecated and will be removed in a future version. Please use `Model.fit`, which supports generators.\n",
      "  warnings.warn('`Model.fit_generator` is deprecated and '\n"
     ]
    },
    {
     "name": "stdout",
     "output_type": "stream",
     "text": [
      "Epoch 1/60\n",
      "62/62 [==============================] - 41s 644ms/step - loss: 4.4936 - accuracy: 0.0472 - val_loss: 28.2205 - val_accuracy: 0.0161\n",
      "\n",
      "Epoch 00001: val_accuracy improved from -inf to 0.01613, saving model to best_model.h5\n",
      "Epoch 2/60\n",
      "62/62 [==============================] - 39s 638ms/step - loss: 3.3257 - accuracy: 0.1833 - val_loss: 5.5652 - val_accuracy: 0.1230\n",
      "\n",
      "Epoch 00002: val_accuracy improved from 0.01613 to 0.12298, saving model to best_model.h5\n",
      "Epoch 3/60\n",
      "62/62 [==============================] - 39s 632ms/step - loss: 2.3430 - accuracy: 0.3422 - val_loss: 3.4928 - val_accuracy: 0.2157\n",
      "\n",
      "Epoch 00003: val_accuracy improved from 0.12298 to 0.21573, saving model to best_model.h5\n",
      "Epoch 4/60\n",
      "62/62 [==============================] - 39s 635ms/step - loss: 1.8591 - accuracy: 0.4519 - val_loss: 21.2350 - val_accuracy: 0.0343\n",
      "\n",
      "Epoch 00004: val_accuracy did not improve from 0.21573\n",
      "Epoch 5/60\n",
      "62/62 [==============================] - 39s 637ms/step - loss: 1.6924 - accuracy: 0.5156 - val_loss: 10.5454 - val_accuracy: 0.0565\n",
      "\n",
      "Epoch 00005: val_accuracy did not improve from 0.21573\n",
      "Epoch 6/60\n",
      "62/62 [==============================] - 39s 628ms/step - loss: 1.7873 - accuracy: 0.4794 - val_loss: 35.7718 - val_accuracy: 0.0161\n",
      "\n",
      "Epoch 00006: ReduceLROnPlateau reducing learning rate to 0.004999999888241291.\n",
      "\n",
      "Epoch 00006: val_accuracy did not improve from 0.21573\n",
      "Epoch 7/60\n",
      "62/62 [==============================] - 39s 631ms/step - loss: 1.3343 - accuracy: 0.5710 - val_loss: 18.7011 - val_accuracy: 0.0363\n",
      "\n",
      "Epoch 00007: val_accuracy did not improve from 0.21573\n",
      "Epoch 8/60\n",
      "62/62 [==============================] - 39s 629ms/step - loss: 1.2376 - accuracy: 0.6182 - val_loss: 1.7897 - val_accuracy: 0.4980\n",
      "\n",
      "Epoch 00008: val_accuracy improved from 0.21573 to 0.49798, saving model to best_model.h5\n",
      "Epoch 9/60\n",
      "62/62 [==============================] - 39s 635ms/step - loss: 1.0974 - accuracy: 0.6511 - val_loss: 1.6065 - val_accuracy: 0.5968\n",
      "\n",
      "Epoch 00009: val_accuracy improved from 0.49798 to 0.59677, saving model to best_model.h5\n",
      "Epoch 10/60\n",
      "62/62 [==============================] - 39s 637ms/step - loss: 0.9963 - accuracy: 0.6850 - val_loss: 1.2960 - val_accuracy: 0.6210\n",
      "\n",
      "Epoch 00010: val_accuracy improved from 0.59677 to 0.62097, saving model to best_model.h5\n",
      "Epoch 11/60\n",
      "62/62 [==============================] - 39s 636ms/step - loss: 0.9688 - accuracy: 0.6893 - val_loss: 6.1894 - val_accuracy: 0.1452\n",
      "\n",
      "Epoch 00011: val_accuracy did not improve from 0.62097\n",
      "Epoch 12/60\n",
      "62/62 [==============================] - 39s 630ms/step - loss: 0.9028 - accuracy: 0.7118 - val_loss: 1.3727 - val_accuracy: 0.5887\n",
      "\n",
      "Epoch 00012: val_accuracy did not improve from 0.62097\n",
      "Epoch 13/60\n",
      "62/62 [==============================] - 39s 632ms/step - loss: 0.8529 - accuracy: 0.7245 - val_loss: 1.2981 - val_accuracy: 0.6190\n",
      "\n",
      "Epoch 00013: ReduceLROnPlateau reducing learning rate to 0.0024999999441206455.\n",
      "\n",
      "Epoch 00013: val_accuracy did not improve from 0.62097\n",
      "Epoch 14/60\n",
      "62/62 [==============================] - 39s 636ms/step - loss: 0.8564 - accuracy: 0.7341 - val_loss: 1.2455 - val_accuracy: 0.6452\n",
      "\n",
      "Epoch 00014: val_accuracy improved from 0.62097 to 0.64516, saving model to best_model.h5\n",
      "Epoch 15/60\n",
      "62/62 [==============================] - 39s 638ms/step - loss: 0.7637 - accuracy: 0.7397 - val_loss: 5.4482 - val_accuracy: 0.7177\n",
      "\n",
      "Epoch 00015: val_accuracy improved from 0.64516 to 0.71774, saving model to best_model.h5\n",
      "Epoch 16/60\n",
      "62/62 [==============================] - 39s 638ms/step - loss: 0.6765 - accuracy: 0.7821 - val_loss: 1.2219 - val_accuracy: 0.6613\n",
      "\n",
      "Epoch 00016: val_accuracy did not improve from 0.71774\n",
      "Epoch 17/60\n",
      "62/62 [==============================] - 39s 634ms/step - loss: 0.6531 - accuracy: 0.7780 - val_loss: 7.2329 - val_accuracy: 0.5222\n",
      "\n",
      "Epoch 00017: val_accuracy did not improve from 0.71774\n",
      "Epoch 18/60\n",
      "62/62 [==============================] - 39s 633ms/step - loss: 0.6320 - accuracy: 0.7892 - val_loss: 49.6409 - val_accuracy: 0.6915\n",
      "\n",
      "Epoch 00018: ReduceLROnPlateau reducing learning rate to 0.0012499999720603228.\n",
      "\n",
      "Epoch 00018: val_accuracy did not improve from 0.71774\n",
      "Epoch 19/60\n",
      "62/62 [==============================] - 39s 637ms/step - loss: 0.6208 - accuracy: 0.8081 - val_loss: 42.5994 - val_accuracy: 0.6069\n",
      "\n",
      "Epoch 00019: val_accuracy did not improve from 0.71774\n",
      "Epoch 20/60\n",
      "62/62 [==============================] - 39s 636ms/step - loss: 0.6109 - accuracy: 0.7938 - val_loss: 1.2489 - val_accuracy: 0.6512\n",
      "\n",
      "Epoch 00020: val_accuracy did not improve from 0.71774\n",
      "Epoch 21/60\n",
      "62/62 [==============================] - 39s 633ms/step - loss: 0.5919 - accuracy: 0.8135 - val_loss: 1.0837 - val_accuracy: 0.6855\n",
      "\n",
      "Epoch 00021: ReduceLROnPlateau reducing learning rate to 0.0006249999860301614.\n",
      "\n",
      "Epoch 00021: val_accuracy did not improve from 0.71774\n",
      "Epoch 22/60\n",
      "62/62 [==============================] - 39s 634ms/step - loss: 0.5872 - accuracy: 0.8114 - val_loss: 1.2207 - val_accuracy: 0.6956\n",
      "\n",
      "Epoch 00022: val_accuracy did not improve from 0.71774\n",
      "Epoch 23/60\n",
      "62/62 [==============================] - 39s 633ms/step - loss: 0.5541 - accuracy: 0.8077 - val_loss: 1.0059 - val_accuracy: 0.7036\n",
      "\n",
      "Epoch 00023: val_accuracy did not improve from 0.71774\n",
      "Epoch 24/60\n",
      "62/62 [==============================] - 39s 634ms/step - loss: 0.5274 - accuracy: 0.8147 - val_loss: 1.0232 - val_accuracy: 0.7077\n",
      "\n",
      "Epoch 00024: ReduceLROnPlateau reducing learning rate to 0.0003124999930150807.\n",
      "\n",
      "Epoch 00024: val_accuracy did not improve from 0.71774\n",
      "Epoch 25/60\n",
      "62/62 [==============================] - 39s 635ms/step - loss: 0.5550 - accuracy: 0.8272 - val_loss: 0.9643 - val_accuracy: 0.7157\n",
      "\n",
      "Epoch 00025: val_accuracy did not improve from 0.71774\n",
      "Epoch 26/60\n",
      "62/62 [==============================] - 39s 638ms/step - loss: 0.5752 - accuracy: 0.8176 - val_loss: 0.9386 - val_accuracy: 0.7137\n",
      "\n",
      "Epoch 00026: val_accuracy did not improve from 0.71774\n",
      "Epoch 27/60\n",
      "62/62 [==============================] - 40s 639ms/step - loss: 0.5288 - accuracy: 0.8183 - val_loss: 0.8731 - val_accuracy: 0.7359\n",
      "\n",
      "Epoch 00027: val_accuracy improved from 0.71774 to 0.73589, saving model to best_model.h5\n",
      "Epoch 28/60\n",
      "62/62 [==============================] - 40s 645ms/step - loss: 0.5132 - accuracy: 0.8243 - val_loss: 1.0343 - val_accuracy: 0.7238\n",
      "\n",
      "Epoch 00028: val_accuracy did not improve from 0.73589\n",
      "Epoch 29/60\n",
      "62/62 [==============================] - 40s 648ms/step - loss: 0.5314 - accuracy: 0.8391 - val_loss: 1.2137 - val_accuracy: 0.7016\n",
      "\n",
      "Epoch 00029: val_accuracy did not improve from 0.73589\n",
      "Epoch 30/60\n",
      "62/62 [==============================] - 40s 647ms/step - loss: 0.5114 - accuracy: 0.8385 - val_loss: 0.9703 - val_accuracy: 0.6996\n",
      "\n",
      "Epoch 00030: ReduceLROnPlateau reducing learning rate to 0.00015624999650754035.\n",
      "\n",
      "Epoch 00030: val_accuracy did not improve from 0.73589\n",
      "Epoch 31/60\n",
      "62/62 [==============================] - 40s 639ms/step - loss: 0.5003 - accuracy: 0.8305 - val_loss: 0.9174 - val_accuracy: 0.7238\n",
      "\n",
      "Epoch 00031: val_accuracy did not improve from 0.73589\n",
      "Epoch 32/60\n",
      "62/62 [==============================] - 40s 639ms/step - loss: 0.5051 - accuracy: 0.8346 - val_loss: 0.9532 - val_accuracy: 0.7077\n",
      "\n",
      "Epoch 00032: val_accuracy did not improve from 0.73589\n",
      "Epoch 33/60\n",
      "62/62 [==============================] - 39s 637ms/step - loss: 0.5147 - accuracy: 0.8221 - val_loss: 0.8921 - val_accuracy: 0.7258\n",
      "\n",
      "Epoch 00033: ReduceLROnPlateau reducing learning rate to 0.0001.\n",
      "\n",
      "Epoch 00033: val_accuracy did not improve from 0.73589\n",
      "Epoch 34/60\n",
      "62/62 [==============================] - 39s 636ms/step - loss: 0.5047 - accuracy: 0.8316 - val_loss: 0.9444 - val_accuracy: 0.7117\n",
      "\n",
      "Epoch 00034: val_accuracy did not improve from 0.73589\n",
      "Epoch 35/60\n",
      "62/62 [==============================] - 39s 632ms/step - loss: 0.5251 - accuracy: 0.8213 - val_loss: 0.9435 - val_accuracy: 0.7077\n",
      "\n",
      "Epoch 00035: val_accuracy did not improve from 0.73589\n",
      "Epoch 36/60\n",
      "62/62 [==============================] - 39s 634ms/step - loss: 0.5161 - accuracy: 0.8360 - val_loss: 1.1934 - val_accuracy: 0.7117\n",
      "\n",
      "Epoch 00036: val_accuracy did not improve from 0.73589\n",
      "Epoch 37/60\n",
      "62/62 [==============================] - 39s 633ms/step - loss: 0.5410 - accuracy: 0.8123 - val_loss: 1.0174 - val_accuracy: 0.7056\n",
      "\n",
      "Epoch 00037: val_accuracy did not improve from 0.73589\n",
      "Epoch 38/60\n",
      "62/62 [==============================] - 39s 636ms/step - loss: 0.4897 - accuracy: 0.8354 - val_loss: 0.8987 - val_accuracy: 0.7077\n",
      "\n",
      "Epoch 00038: val_accuracy did not improve from 0.73589\n",
      "Epoch 39/60\n",
      "62/62 [==============================] - 39s 636ms/step - loss: 0.5352 - accuracy: 0.8095 - val_loss: 1.0853 - val_accuracy: 0.6956\n",
      "\n",
      "Epoch 00039: val_accuracy did not improve from 0.73589\n",
      "Epoch 40/60\n",
      "62/62 [==============================] - 39s 634ms/step - loss: 0.5127 - accuracy: 0.8256 - val_loss: 0.9623 - val_accuracy: 0.6996\n",
      "\n",
      "Epoch 00040: val_accuracy did not improve from 0.73589\n",
      "Epoch 41/60\n",
      "62/62 [==============================] - 39s 634ms/step - loss: 0.4974 - accuracy: 0.8317 - val_loss: 1.6150 - val_accuracy: 0.7056\n",
      "\n",
      "Epoch 00041: val_accuracy did not improve from 0.73589\n",
      "Epoch 42/60\n",
      "62/62 [==============================] - 39s 631ms/step - loss: 0.4933 - accuracy: 0.8403 - val_loss: 0.9936 - val_accuracy: 0.7177\n",
      "\n",
      "Epoch 00042: val_accuracy did not improve from 0.73589\n",
      "Epoch 43/60\n",
      "62/62 [==============================] - 39s 638ms/step - loss: 0.4816 - accuracy: 0.8329 - val_loss: 0.8989 - val_accuracy: 0.7097\n",
      "\n",
      "Epoch 00043: val_accuracy did not improve from 0.73589\n",
      "Epoch 44/60\n",
      "62/62 [==============================] - 39s 638ms/step - loss: 0.4910 - accuracy: 0.8286 - val_loss: 1.0348 - val_accuracy: 0.7319\n",
      "\n",
      "Epoch 00044: val_accuracy did not improve from 0.73589\n",
      "Epoch 45/60\n",
      "62/62 [==============================] - 39s 633ms/step - loss: 0.5060 - accuracy: 0.8316 - val_loss: 0.9080 - val_accuracy: 0.7218\n",
      "\n",
      "Epoch 00045: val_accuracy did not improve from 0.73589\n",
      "Epoch 46/60\n",
      "62/62 [==============================] - 40s 641ms/step - loss: 0.5008 - accuracy: 0.8288 - val_loss: 0.9292 - val_accuracy: 0.7077\n",
      "\n",
      "Epoch 00046: val_accuracy did not improve from 0.73589\n",
      "Epoch 47/60\n",
      "62/62 [==============================] - 40s 643ms/step - loss: 0.5269 - accuracy: 0.8241 - val_loss: 0.9161 - val_accuracy: 0.7198\n",
      "\n",
      "Epoch 00047: val_accuracy did not improve from 0.73589\n",
      "Epoch 48/60\n",
      "62/62 [==============================] - 39s 636ms/step - loss: 0.4642 - accuracy: 0.8428 - val_loss: 0.8848 - val_accuracy: 0.7278\n",
      "\n",
      "Epoch 00048: val_accuracy did not improve from 0.73589\n",
      "Epoch 49/60\n",
      "62/62 [==============================] - 40s 640ms/step - loss: 0.5173 - accuracy: 0.8395 - val_loss: 0.9222 - val_accuracy: 0.7137\n",
      "\n",
      "Epoch 00049: val_accuracy did not improve from 0.73589\n",
      "Epoch 50/60\n",
      "62/62 [==============================] - 40s 640ms/step - loss: 0.4997 - accuracy: 0.8333 - val_loss: 0.8856 - val_accuracy: 0.7258\n",
      "\n",
      "Epoch 00050: val_accuracy did not improve from 0.73589\n",
      "Epoch 51/60\n",
      "62/62 [==============================] - 39s 638ms/step - loss: 0.5062 - accuracy: 0.8384 - val_loss: 0.9877 - val_accuracy: 0.7056\n",
      "\n",
      "Epoch 00051: val_accuracy did not improve from 0.73589\n",
      "Epoch 52/60\n",
      "62/62 [==============================] - 39s 638ms/step - loss: 0.4670 - accuracy: 0.8474 - val_loss: 0.8576 - val_accuracy: 0.7278\n",
      "\n",
      "Epoch 00052: val_accuracy did not improve from 0.73589\n",
      "Epoch 53/60\n",
      "62/62 [==============================] - 39s 638ms/step - loss: 0.4708 - accuracy: 0.8450 - val_loss: 1.0750 - val_accuracy: 0.7339\n",
      "\n",
      "Epoch 00053: val_accuracy did not improve from 0.73589\n",
      "Epoch 54/60\n",
      "62/62 [==============================] - 39s 637ms/step - loss: 0.4851 - accuracy: 0.8406 - val_loss: 0.9322 - val_accuracy: 0.7157\n",
      "\n",
      "Epoch 00054: val_accuracy did not improve from 0.73589\n",
      "Epoch 55/60\n",
      "62/62 [==============================] - 39s 637ms/step - loss: 0.4795 - accuracy: 0.8434 - val_loss: 0.8707 - val_accuracy: 0.7258\n",
      "\n",
      "Epoch 00055: val_accuracy did not improve from 0.73589\n",
      "Epoch 56/60\n",
      "62/62 [==============================] - 39s 636ms/step - loss: 0.5133 - accuracy: 0.8341 - val_loss: 0.9059 - val_accuracy: 0.7137\n",
      "\n",
      "Epoch 00056: val_accuracy did not improve from 0.73589\n",
      "Epoch 57/60\n",
      "62/62 [==============================] - 39s 635ms/step - loss: 0.4637 - accuracy: 0.8328 - val_loss: 1.1183 - val_accuracy: 0.6915\n",
      "\n",
      "Epoch 00057: val_accuracy did not improve from 0.73589\n",
      "Epoch 58/60\n",
      "62/62 [==============================] - 39s 625ms/step - loss: 0.4318 - accuracy: 0.8454 - val_loss: 0.9661 - val_accuracy: 0.7117\n",
      "\n",
      "Epoch 00058: val_accuracy did not improve from 0.73589\n",
      "Epoch 59/60\n",
      "62/62 [==============================] - 39s 623ms/step - loss: 0.4608 - accuracy: 0.8445 - val_loss: 4.2004 - val_accuracy: 0.7339\n",
      "\n",
      "Epoch 00059: val_accuracy did not improve from 0.73589\n",
      "Epoch 60/60\n",
      "62/62 [==============================] - 39s 625ms/step - loss: 0.4149 - accuracy: 0.8576 - val_loss: 0.9502 - val_accuracy: 0.7218\n",
      "\n",
      "Epoch 00060: val_accuracy did not improve from 0.73589\n"
     ]
    }
   ],
   "source": [
    "\n",
    "history = model.fit_generator(train_generator,steps_per_epoch= 1984/batchsize,epochs = EPOUCH ,verbose=1,validation_data=validation_generator, callbacks=[rlr,ckp])\n",
    "\n",
    "\n"
   ]
  },
  {
   "cell_type": "markdown",
   "metadata": {
    "id": "YkWImoDcBAza"
   },
   "source": [
    "## Plotting the Result"
   ]
  },
  {
   "cell_type": "code",
   "execution_count": 18,
   "metadata": {
    "colab": {
     "base_uri": "https://localhost:8080/",
     "height": 573
    },
    "id": "iqslBeKgzCIb",
    "outputId": "ed2bc529-c814-41d3-a6f8-142a21bded0f"
   },
   "outputs": [
    {
     "data": {
      "image/png": "[encoded data removed]",
      "text/plain": [
       "<Figure size 432x288 with 1 Axes>"
      ]
     },
     "metadata": {
      "needs_background": "light",
      "tags": []
     },
     "output_type": "display_data"
    },
    {
     "data": {
      "image/png": "[encoded data removed]",
      "text/plain": [
       "<Figure size 432x288 with 1 Axes>"
      ]
     },
     "metadata": {
      "needs_background": "light",
      "tags": []
     },
     "output_type": "display_data"
    }
   ],
   "source": [
    "# summarize history for accuracy\n",
    "plt.plot(history.history['accuracy'])\n",
    "plt.plot(history.history['val_accuracy'])\n",
    "plt.title('model accuracy')\n",
    "plt.ylabel('accuracy')\n",
    "plt.xlabel('epoch')\n",
    "plt.legend(['train', 'validation'], loc='upper left')\n",
    "plt.show()\n",
    "\n",
    "# summarize history for loss\n",
    "plt.plot(history.history['loss'])\n",
    "plt.plot(history.history['val_loss'])\n",
    "plt.title('model loss')\n",
    "plt.ylabel('loss')\n",
    "plt.xlabel('epoch')\n",
    "plt.legend(['train', 'validation'], loc='upper left')\n",
    "plt.show()"
   ]
  },
  {
   "cell_type": "markdown",
   "metadata": {
    "id": "LyF4foHLBAzb"
   },
   "source": [
    "## Final overview\n",
    "\n",
    "##### Follwing are the results i got:\n",
    "\n",
    "#### Final Training accuracy   : 85.76%\n",
    "#### Best Validation accuracy : 73.58% "
   ]
  },
  {
   "cell_type": "markdown",
   "metadata": {
    "id": "YSzY0fWsBAzc"
   },
   "source": [
    "## Methods to increase the validation accuracy:\n",
    "1) Use Tranfer learning \n",
    "2) Increase the ammount of data\n",
    "3) Use masking,since the dataset has large white background if we apply the masking such that only the digits got cropped,this way we can make training faster."
   ]
  },
  {
   "cell_type": "markdown",
   "metadata": {
    "id": "H7Fr_2zmBAzc"
   },
   "source": [
    "## Refernce material\n",
    "\n",
    "1) https://keras.io/api/\n",
    "2) https://en.wikipedia.org/wiki/Convolutional_neural_network\n",
    "3) https://towardsdatascience.com/a-comprehensive-guide-to-convolutional-neural-networks-the-eli5-way-3bd2b1164a53\n",
    "4) https://stackoverflow.com/questions/43290192/intuition-on-deep-residual-network\n",
    "5) https://www.coursera.org/specializations/deep-learning\n",
    "6) https://youtube.com/playlist?list=PLoROMvodv4rOABXSygHTsbvUz4G_YQhOb"
   ]
  },
  {
   "cell_type": "code",
   "execution_count": null,
   "metadata": {
    "id": "RqVduQdJBAzd"
   },
   "outputs": [],
   "source": []
  }
 ],
 "metadata": {
  "accelerator": "GPU",
  "colab": {
   "collapsed_sections": [],
   "name": "MIDAS_TASK_2_Final (1).ipynb",
   "provenance": [],
   "toc_visible": true
  },
  "kernelspec": {
   "display_name": "Python 3",
   "language": "python",
   "name": "python3"
  },
  "language_info": {
   "codemirror_mode": {
    "name": "ipython",
    "version": 3
   },
   "file_extension": ".py",
   "mimetype": "text/x-python",
   "name": "python",
   "nbconvert_exporter": "python",
   "pygments_lexer": "ipython3",
   "version": "3.8.8"
  }
 },
 "nbformat": 4,
 "nbformat_minor": 1
}
