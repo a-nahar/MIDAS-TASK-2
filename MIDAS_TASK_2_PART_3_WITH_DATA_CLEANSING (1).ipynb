{
  "nbformat": 4,
  "nbformat_minor": 5,
  "metadata": {
    "accelerator": "GPU",
    "colab": {
      "name": "MIDAS_TASK_2_PART_3_WITH_DATA_CLEANSING.ipynb",
      "provenance": [],
      "toc_visible": true
    },
    "kernelspec": {
      "display_name": "Python 3",
      "language": "python",
      "name": "python3"
    },
    "language_info": {
      "codemirror_mode": {
        "name": "ipython",
        "version": 3
      },
      "file_extension": ".py",
      "mimetype": "text/x-python",
      "name": "python",
      "nbconvert_exporter": "python",
      "pygments_lexer": "ipython3",
      "version": "3.8.8"
    }
  },
  "cells": [
    {
      "cell_type": "markdown",
      "metadata": {
        "id": "grateful-public"
      },
      "source": [
        "## NOTE : THIS IS THE ADDITIONAL NOTEBOOK IN WHICH I HAVE PERFORMED THE DATA CLEANSING FOR THE DATA PROVIDED FOR PART 3 OF THE TASK\n",
        "\n",
        "### DATA CLEANSING :\n",
        "    ISSUE             : DATASET IS NOT LABELLED,IT IS RANDOMLY DISTRIBUTED\n",
        "    POSSIBLE SOLUTION : There are many ways to label the data(k-means clustering etc.), But Here I am going to use the part-2 Pretrained Model which is trained on Mnist dataset and has the testing accuracy of 99.59%.\n",
        "        "
      ],
      "id": "grateful-public"
    },
    {
      "cell_type": "markdown",
      "metadata": {
        "id": "induced-times"
      },
      "source": [
        "#### Importing the libraires"
      ],
      "id": "induced-times"
    },
    {
      "cell_type": "code",
      "metadata": {
        "id": "clinical-occupation"
      },
      "source": [
        "import numpy as np\n",
        "import cv2 as cv\n",
        "import os\n",
        "import matplotlib.pyplot as plt\n",
        "import tensorflow as tf\n",
        "import zipfile"
      ],
      "id": "clinical-occupation",
      "execution_count": 1,
      "outputs": []
    },
    {
      "cell_type": "markdown",
      "metadata": {
        "id": "infrared-assignment"
      },
      "source": [
        "## loadind the dataset"
      ],
      "id": "infrared-assignment"
    },
    {
      "cell_type": "code",
      "metadata": {
        "id": "governmental-institute"
      },
      "source": [
        "path = '/content/mnistTask.zip'\n",
        "zip_ref = zipfile.ZipFile(path,'r')\n",
        "zip_ref.extractall('tmp')\n",
        "zip_ref.close()\n"
      ],
      "id": "governmental-institute",
      "execution_count": 2,
      "outputs": []
    },
    {
      "cell_type": "markdown",
      "metadata": {
        "id": "touched-sustainability"
      },
      "source": [
        "#### Storing each image In numpy array"
      ],
      "id": "touched-sustainability"
    },
    {
      "cell_type": "code",
      "metadata": {
        "id": "liked-titanium"
      },
      "source": [
        "img = []\n",
        "dirpath = '/content/tmp/mnistTask'\n",
        "\n",
        "\n",
        "# Load in the images\n",
        "for filepath in os.listdir(dirpath):\n",
        "    img_path = os.path.join(dirpath,filepath)\n",
        "    img.append(cv.imread(img_path,0))\n",
        "\n",
        "img = np.asarray(img)"
      ],
      "id": "liked-titanium",
      "execution_count": 3,
      "outputs": []
    },
    {
      "cell_type": "markdown",
      "metadata": {
        "id": "fantastic-weapon"
      },
      "source": [
        "#### Reshaping the Images"
      ],
      "id": "fantastic-weapon"
    },
    {
      "cell_type": "code",
      "metadata": {
        "id": "ongoing-holocaust"
      },
      "source": [
        "img = img.reshape(img.shape[0], 28, 28, 1)\n",
        "img = img.astype('float32')\n",
        "img  /= 255\n"
      ],
      "id": "ongoing-holocaust",
      "execution_count": 4,
      "outputs": []
    },
    {
      "cell_type": "markdown",
      "metadata": {
        "id": "logical-discipline"
      },
      "source": [
        "#### Loading the Pretrained model Trained on Mnist dataset & Predicting the label for each Image"
      ],
      "id": "logical-discipline"
    },
    {
      "cell_type": "code",
      "metadata": {
        "id": "focal-plastic"
      },
      "source": [
        "path_model = '/content/Mnist_train_model_99.59 acc..h5'\n",
        "model  = tf.keras.models.load_model(path_model)\n",
        "predict = model.predict(img)"
      ],
      "id": "focal-plastic",
      "execution_count": 5,
      "outputs": []
    },
    {
      "cell_type": "markdown",
      "metadata": {
        "id": "liberal-sandwich"
      },
      "source": [
        "##### Prediction for the First image"
      ],
      "id": "liberal-sandwich"
    },
    {
      "cell_type": "code",
      "metadata": {
        "colab": {
          "base_uri": "https://localhost:8080/"
        },
        "id": "disabled-contact",
        "outputId": "6a355ca9-8910-401a-fcd2-5b9428719c0f"
      },
      "source": [
        "predict[0]"
      ],
      "id": "disabled-contact",
      "execution_count": 6,
      "outputs": [
        {
          "output_type": "execute_result",
          "data": {
            "text/plain": [
              "array([5.4160534e-11, 1.1902614e-12, 1.0382111e-10, 4.3451844e-12,\n",
              "       2.9796990e-10, 1.6896833e-09, 1.0000000e+00, 2.2736553e-14,\n",
              "       3.1812705e-10, 8.7951391e-13], dtype=float32)"
            ]
          },
          "metadata": {
            "tags": []
          },
          "execution_count": 6
        }
      ]
    },
    {
      "cell_type": "markdown",
      "metadata": {
        "id": "located-individual"
      },
      "source": [
        "#### Converting The prediction into their Respective Class,"
      ],
      "id": "located-individual"
    },
    {
      "cell_type": "code",
      "metadata": {
        "id": "concrete-border"
      },
      "source": [
        "Y_train = predict.argmax(axis = 1)"
      ],
      "id": "concrete-border",
      "execution_count": 7,
      "outputs": []
    },
    {
      "cell_type": "markdown",
      "metadata": {
        "id": "possible-tampa"
      },
      "source": [
        "### Here we got our required labels of the images"
      ],
      "id": "possible-tampa"
    },
    {
      "cell_type": "code",
      "metadata": {
        "colab": {
          "base_uri": "https://localhost:8080/"
        },
        "id": "coastal-failing",
        "outputId": "bf8a000a-d6ec-4abe-9b20-fcc2418ad83e"
      },
      "source": [
        "Y_train"
      ],
      "id": "coastal-failing",
      "execution_count": 8,
      "outputs": [
        {
          "output_type": "execute_result",
          "data": {
            "text/plain": [
              "array([6, 5, 3, ..., 1, 4, 3])"
            ]
          },
          "metadata": {
            "tags": []
          },
          "execution_count": 8
        }
      ]
    },
    {
      "cell_type": "markdown",
      "metadata": {
        "id": "experienced-quick"
      },
      "source": [
        "### Now Training Time, For Training I use the pretrained Model part -1 , And use the Clean dataset Which we have created above"
      ],
      "id": "experienced-quick"
    },
    {
      "cell_type": "code",
      "metadata": {
        "colab": {
          "base_uri": "https://localhost:8080/"
        },
        "id": "wanted-poetry",
        "outputId": "b439b581-1a5d-4ea0-9d17-e406a5e672e7"
      },
      "source": [
        "path_model = '/content/best_model_pretrained.h5'\n",
        "pretrained_model  = tf.keras.models.load_model(path_model)\n",
        "pretrained_model.summary()\n"
      ],
      "id": "wanted-poetry",
      "execution_count": 9,
      "outputs": [
        {
          "output_type": "stream",
          "text": [
            "Model: \"model_3\"\n",
            "_________________________________________________________________\n",
            "Layer (type)                 Output Shape              Param #   \n",
            "=================================================================\n",
            "input_4 (InputLayer)         [(None, 28, 28, 1)]       0         \n",
            "_________________________________________________________________\n",
            "conv2d_15 (Conv2D)           (None, 26, 26, 64)        640       \n",
            "_________________________________________________________________\n",
            "conv2d_16 (Conv2D)           (None, 24, 24, 64)        36928     \n",
            "_________________________________________________________________\n",
            "max_pooling2d_9 (MaxPooling2 (None, 12, 12, 64)        0         \n",
            "_________________________________________________________________\n",
            "dropout_12 (Dropout)         (None, 12, 12, 64)        0         \n",
            "_________________________________________________________________\n",
            "batch_normalization_9 (Batch (None, 12, 12, 64)        256       \n",
            "_________________________________________________________________\n",
            "conv2d_17 (Conv2D)           (None, 10, 10, 128)       73856     \n",
            "_________________________________________________________________\n",
            "conv2d_18 (Conv2D)           (None, 8, 8, 256)         295168    \n",
            "_________________________________________________________________\n",
            "max_pooling2d_10 (MaxPooling (None, 4, 4, 256)         0         \n",
            "_________________________________________________________________\n",
            "dropout_13 (Dropout)         (None, 4, 4, 256)         0         \n",
            "_________________________________________________________________\n",
            "batch_normalization_10 (Batc (None, 4, 4, 256)         1024      \n",
            "_________________________________________________________________\n",
            "conv2d_19 (Conv2D)           (None, 2, 2, 256)         590080    \n",
            "_________________________________________________________________\n",
            "max_pooling2d_11 (MaxPooling (None, 1, 1, 256)         0         \n",
            "_________________________________________________________________\n",
            "dropout_14 (Dropout)         (None, 1, 1, 256)         0         \n",
            "_________________________________________________________________\n",
            "flatten_3 (Flatten)          (None, 256)               0         \n",
            "_________________________________________________________________\n",
            "batch_normalization_11 (Batc (None, 256)               1024      \n",
            "_________________________________________________________________\n",
            "dense_7 (Dense)              (None, 10)                2570      \n",
            "=================================================================\n",
            "Total params: 1,001,546\n",
            "Trainable params: 1,000,394\n",
            "Non-trainable params: 1,152\n",
            "_________________________________________________________________\n"
          ],
          "name": "stdout"
        }
      ]
    },
    {
      "cell_type": "markdown",
      "metadata": {
        "id": "vocal-aggregate"
      },
      "source": [
        "##### One hot encoding for the labels of the image"
      ],
      "id": "vocal-aggregate"
    },
    {
      "cell_type": "code",
      "metadata": {
        "colab": {
          "base_uri": "https://localhost:8080/"
        },
        "id": "0r2_qf20WBAI",
        "outputId": "c46b4754-8bdc-40b3-c62b-b22e40b9b675"
      },
      "source": [
        "from keras.utils import np_utils\n",
        "n_classes = 10\n",
        "print(\"Shape before one-hot encoding: \", Y_train.shape)\n",
        "Y_train = np_utils.to_categorical(Y_train, n_classes)\n",
        "print(\"Shape after one-hot encoding: \", Y_train.shape)"
      ],
      "id": "0r2_qf20WBAI",
      "execution_count": 10,
      "outputs": [
        {
          "output_type": "stream",
          "text": [
            "Shape before one-hot encoding:  (60000,)\n",
            "Shape after one-hot encoding:  (60000, 10)\n"
          ],
          "name": "stdout"
        }
      ]
    },
    {
      "cell_type": "markdown",
      "metadata": {
        "id": "every-madness"
      },
      "source": [
        "#### Training"
      ],
      "id": "every-madness"
    },
    {
      "cell_type": "code",
      "metadata": {
        "colab": {
          "base_uri": "https://localhost:8080/"
        },
        "id": "mr_-IMh0WGo7",
        "outputId": "f31422e5-44c1-4d4b-e66b-168dde6f3a17"
      },
      "source": [
        "history1 = pretrained_model.fit(img, Y_train, batch_size= 128, epochs=50)"
      ],
      "id": "mr_-IMh0WGo7",
      "execution_count": 11,
      "outputs": [
        {
          "output_type": "stream",
          "text": [
            "Epoch 1/50\n",
            "469/469 [==============================] - 8s 15ms/step - loss: 0.2886 - accuracy: 0.9179\n",
            "Epoch 2/50\n",
            "469/469 [==============================] - 7s 14ms/step - loss: 0.0816 - accuracy: 0.9749\n",
            "Epoch 3/50\n",
            "469/469 [==============================] - 7s 14ms/step - loss: 0.0558 - accuracy: 0.9827\n",
            "Epoch 4/50\n",
            "469/469 [==============================] - 7s 15ms/step - loss: 0.0437 - accuracy: 0.9867\n",
            "Epoch 5/50\n",
            "469/469 [==============================] - 7s 14ms/step - loss: 0.0368 - accuracy: 0.9890\n",
            "Epoch 6/50\n",
            "469/469 [==============================] - 7s 14ms/step - loss: 0.0303 - accuracy: 0.9906\n",
            "Epoch 7/50\n",
            "469/469 [==============================] - 7s 15ms/step - loss: 0.0254 - accuracy: 0.9917\n",
            "Epoch 8/50\n",
            "469/469 [==============================] - 7s 15ms/step - loss: 0.0222 - accuracy: 0.9933\n",
            "Epoch 9/50\n",
            "469/469 [==============================] - 7s 14ms/step - loss: 0.0200 - accuracy: 0.9937\n",
            "Epoch 10/50\n",
            "469/469 [==============================] - 7s 15ms/step - loss: 0.0181 - accuracy: 0.9942\n",
            "Epoch 11/50\n",
            "469/469 [==============================] - 7s 15ms/step - loss: 0.0157 - accuracy: 0.9949\n",
            "Epoch 12/50\n",
            "469/469 [==============================] - 7s 15ms/step - loss: 0.0136 - accuracy: 0.9955\n",
            "Epoch 13/50\n",
            "469/469 [==============================] - 7s 15ms/step - loss: 0.0124 - accuracy: 0.9960\n",
            "Epoch 14/50\n",
            "469/469 [==============================] - 7s 15ms/step - loss: 0.0111 - accuracy: 0.9965\n",
            "Epoch 15/50\n",
            "469/469 [==============================] - 7s 15ms/step - loss: 0.0110 - accuracy: 0.9968\n",
            "Epoch 16/50\n",
            "469/469 [==============================] - 7s 15ms/step - loss: 0.0111 - accuracy: 0.9962\n",
            "Epoch 17/50\n",
            "469/469 [==============================] - 7s 15ms/step - loss: 0.0089 - accuracy: 0.9971\n",
            "Epoch 18/50\n",
            "469/469 [==============================] - 7s 15ms/step - loss: 0.0086 - accuracy: 0.9972\n",
            "Epoch 19/50\n",
            "469/469 [==============================] - 7s 15ms/step - loss: 0.0077 - accuracy: 0.9975\n",
            "Epoch 20/50\n",
            "469/469 [==============================] - 7s 15ms/step - loss: 0.0069 - accuracy: 0.9977\n",
            "Epoch 21/50\n",
            "469/469 [==============================] - 7s 15ms/step - loss: 0.0070 - accuracy: 0.9977\n",
            "Epoch 22/50\n",
            "469/469 [==============================] - 7s 15ms/step - loss: 0.0068 - accuracy: 0.9977\n",
            "Epoch 23/50\n",
            "469/469 [==============================] - 7s 15ms/step - loss: 0.0066 - accuracy: 0.9977\n",
            "Epoch 24/50\n",
            "469/469 [==============================] - 7s 15ms/step - loss: 0.0053 - accuracy: 0.9983\n",
            "Epoch 25/50\n",
            "469/469 [==============================] - 7s 15ms/step - loss: 0.0052 - accuracy: 0.9981\n",
            "Epoch 26/50\n",
            "469/469 [==============================] - 7s 15ms/step - loss: 0.0049 - accuracy: 0.9984\n",
            "Epoch 27/50\n",
            "469/469 [==============================] - 7s 15ms/step - loss: 0.0044 - accuracy: 0.9986\n",
            "Epoch 28/50\n",
            "469/469 [==============================] - 7s 15ms/step - loss: 0.0035 - accuracy: 0.9988\n",
            "Epoch 29/50\n",
            "469/469 [==============================] - 7s 15ms/step - loss: 0.0050 - accuracy: 0.9983\n",
            "Epoch 30/50\n",
            "469/469 [==============================] - 7s 15ms/step - loss: 0.0038 - accuracy: 0.9988\n",
            "Epoch 31/50\n",
            "469/469 [==============================] - 7s 15ms/step - loss: 0.0044 - accuracy: 0.9987\n",
            "Epoch 32/50\n",
            "469/469 [==============================] - 7s 15ms/step - loss: 0.0046 - accuracy: 0.9984\n",
            "Epoch 33/50\n",
            "469/469 [==============================] - 7s 15ms/step - loss: 0.0043 - accuracy: 0.9986\n",
            "Epoch 34/50\n",
            "469/469 [==============================] - 7s 15ms/step - loss: 0.0032 - accuracy: 0.9989\n",
            "Epoch 35/50\n",
            "469/469 [==============================] - 7s 15ms/step - loss: 0.0037 - accuracy: 0.9986\n",
            "Epoch 36/50\n",
            "469/469 [==============================] - 7s 15ms/step - loss: 0.0032 - accuracy: 0.9989\n",
            "Epoch 37/50\n",
            "469/469 [==============================] - 7s 15ms/step - loss: 0.0038 - accuracy: 0.9988\n",
            "Epoch 38/50\n",
            "469/469 [==============================] - 7s 15ms/step - loss: 0.0044 - accuracy: 0.9985\n",
            "Epoch 39/50\n",
            "469/469 [==============================] - 7s 15ms/step - loss: 0.0032 - accuracy: 0.9990\n",
            "Epoch 40/50\n",
            "469/469 [==============================] - 7s 15ms/step - loss: 0.0030 - accuracy: 0.9991\n",
            "Epoch 41/50\n",
            "469/469 [==============================] - 7s 15ms/step - loss: 0.0031 - accuracy: 0.9989\n",
            "Epoch 42/50\n",
            "469/469 [==============================] - 7s 15ms/step - loss: 0.0030 - accuracy: 0.9991\n",
            "Epoch 43/50\n",
            "469/469 [==============================] - 7s 15ms/step - loss: 0.0024 - accuracy: 0.9991\n",
            "Epoch 44/50\n",
            "469/469 [==============================] - 7s 15ms/step - loss: 0.0036 - accuracy: 0.9988\n",
            "Epoch 45/50\n",
            "469/469 [==============================] - 7s 15ms/step - loss: 0.0032 - accuracy: 0.9990\n",
            "Epoch 46/50\n",
            "469/469 [==============================] - 7s 15ms/step - loss: 0.0026 - accuracy: 0.9992\n",
            "Epoch 47/50\n",
            "469/469 [==============================] - 7s 15ms/step - loss: 0.0025 - accuracy: 0.9991\n",
            "Epoch 48/50\n",
            "469/469 [==============================] - 7s 15ms/step - loss: 0.0020 - accuracy: 0.9993\n",
            "Epoch 49/50\n",
            "469/469 [==============================] - 7s 15ms/step - loss: 0.0023 - accuracy: 0.9992\n",
            "Epoch 50/50\n",
            "469/469 [==============================] - 7s 15ms/step - loss: 0.0027 - accuracy: 0.9991\n"
          ],
          "name": "stdout"
        }
      ]
    },
    {
      "cell_type": "markdown",
      "metadata": {
        "id": "light-amplifier"
      },
      "source": [
        "### plotting the Result"
      ],
      "id": "light-amplifier"
    },
    {
      "cell_type": "code",
      "metadata": {
        "colab": {
          "base_uri": "https://localhost:8080/",
          "height": 573
        },
        "id": "PEDHEeImZypm",
        "outputId": "474ac8f2-e6b2-4727-c7f3-8d77054fe9f8"
      },
      "source": [
        "# summarize history for accuracy\n",
        "plt.plot(history1.history['accuracy'])\n",
        "plt.title('model accuracy')\n",
        "plt.ylabel('accuracy')\n",
        "plt.xlabel('epoch')\n",
        "plt.legend(['train'], loc='upper left')\n",
        "plt.show()\n",
        "\n",
        "# summarize history for loss\n",
        "plt.plot(history1.history['loss'])\n",
        "plt.title('model loss')\n",
        "plt.ylabel('loss')\n",
        "plt.xlabel('epoch')\n",
        "plt.legend(['train'], loc='upper left')\n",
        "plt.show()"
      ],
      "id": "PEDHEeImZypm",
      "execution_count": 12,
      "outputs": [
        {
          "output_type": "display_data",
          "data": {
            "image/png": "[encoded data removed]",
            "text/plain": [
              "<Figure size 432x288 with 1 Axes>"
            ]
          },
          "metadata": {
            "tags": [],
            "needs_background": "light"
          }
        },
        {
          "output_type": "display_data",
          "data": {
            "image/png": "[encoded data removed]",
            "text/plain": [
              "<Figure size 432x288 with 1 Axes>"
            ]
          },
          "metadata": {
            "tags": [],
            "needs_background": "light"
          }
        }
      ]
    },
    {
      "cell_type": "markdown",
      "metadata": {
        "id": "surrounded-federal"
      },
      "source": [
        "#### NOW WE HAVE TO TEST THIS MODEL ON THE MNIST TESTSET,SO I LOAD THE MNIST DATASET,AND IMPLEMENT THE ONEHOT ENCODING FOR THE Y_TEST AND THEN PREDICT THE RESULT"
      ],
      "id": "surrounded-federal"
    },
    {
      "cell_type": "code",
      "metadata": {
        "id": "DyUIUhS6ZGH1"
      },
      "source": [
        "from tensorflow.keras.datasets import mnist\n",
        "(X_train, Y_train), (X_test, Y_test) = mnist.load_data()\n",
        "X_test = X_test.reshape(X_test.shape[0], 28, 28, 1)\n",
        "X_test = X_test/255.0\n",
        "Trueclasses = Y_test"
      ],
      "id": "DyUIUhS6ZGH1",
      "execution_count": 17,
      "outputs": []
    },
    {
      "cell_type": "code",
      "metadata": {
        "id": "sHC5B-o6ZTi9"
      },
      "source": [
        "\n",
        "from keras.utils import np_utils\n",
        "n_classes = 10\n",
        "Y_test = np_utils.to_categorical(Y_test, n_classes)\n"
      ],
      "id": "sHC5B-o6ZTi9",
      "execution_count": 18,
      "outputs": []
    },
    {
      "cell_type": "markdown",
      "metadata": {
        "id": "unnecessary-forest"
      },
      "source": [
        "# TESTING ACCURACY : 99.59%(IT WAS NOT EVEN 0.1% IN CASE OF THE MODEL TRAINED ON PROVIDED ORIGINAL(NOISY) DATASET)"
      ],
      "id": "unnecessary-forest"
    },
    {
      "cell_type": "code",
      "metadata": {
        "colab": {
          "base_uri": "https://localhost:8080/"
        },
        "id": "8foFCONLZXch",
        "outputId": "9bdbf58a-530a-49c2-ed44-c31fd5606d6a"
      },
      "source": [
        "score = model.evaluate(X_test,Y_test)\n",
        "\n",
        "\n"
      ],
      "id": "8foFCONLZXch",
      "execution_count": 19,
      "outputs": [
        {
          "output_type": "stream",
          "text": [
            "313/313 [==============================] - 1s 4ms/step - loss: 0.0207 - accuracy: 0.9959\n"
          ],
          "name": "stdout"
        }
      ]
    },
    {
      "cell_type": "markdown",
      "metadata": {
        "id": "intermediate-shooting"
      },
      "source": [
        "### CONFUSION MATRIX FOR THE PLOT"
      ],
      "id": "intermediate-shooting"
    },
    {
      "cell_type": "code",
      "metadata": {
        "colab": {
          "base_uri": "https://localhost:8080/",
          "height": 445
        },
        "id": "ohU2GSx_Zduu",
        "outputId": "6794929e-d63f-4fbd-c4e8-cd0de1ccd425"
      },
      "source": [
        "from sklearn.metrics import classification_report, confusion_matrix\n",
        "import seaborn as sn\n",
        "import pandas as pd\n",
        "import matplotlib.pyplot as plt\n",
        "\n",
        "Predicted_class = pretrained_model.predict(X_test)\n",
        "\n",
        "array = confusion_matrix(Trueclasses, Predicted_class.argmax(axis = 1))\n",
        "df_cm = pd.DataFrame(array, index = [i for i in \"0123456789\"],columns = [i for i in \"0123456789\"])\n",
        "plt.figure(figsize = (10,7))\n",
        "sn.heatmap(df_cm, annot=True,cmap = 'Blues')\n",
        "\n",
        "\n",
        "\n"
      ],
      "id": "ohU2GSx_Zduu",
      "execution_count": 28,
      "outputs": [
        {
          "output_type": "execute_result",
          "data": {
            "text/plain": [
              "<matplotlib.axes._subplots.AxesSubplot at 0x7f4b7a127350>"
            ]
          },
          "metadata": {
            "tags": []
          },
          "execution_count": 28
        },
        {
          "output_type": "display_data",
          "data": {
            "image/png": "[encoded data removed]",
            "text/plain": [
              "<Figure size 720x504 with 2 Axes>"
            ]
          },
          "metadata": {
            "tags": [],
            "needs_background": "light"
          }
        }
      ]
    },
    {
      "cell_type": "code",
      "metadata": {
        "id": "6JvHDidyarB5"
      },
      "source": [
        ""
      ],
      "id": "6JvHDidyarB5",
      "execution_count": 28,
      "outputs": []
    },
    {
      "cell_type": "code",
      "metadata": {
        "id": "VBESSrjTr_ak"
      },
      "source": [
        ""
      ],
      "id": "VBESSrjTr_ak",
      "execution_count": 28,
      "outputs": []
    },
    {
      "cell_type": "code",
      "metadata": {
        "id": "6oHqwGInsFSq"
      },
      "source": [
        ""
      ],
      "id": "6oHqwGInsFSq",
      "execution_count": null,
      "outputs": []
    }
  ]
}